{
 "cells": [
  {
   "cell_type": "code",
   "execution_count": 2,
   "metadata": {},
   "outputs": [],
   "source": [
    "import pandas as pd\n",
    "import numpy as np\n",
    "import ast\n",
    "from sklearn.feature_extraction.text import TfidfVectorizer, CountVectorizer\n",
    "from sklearn.metrics.pairwise import cosine_similarity\n",
    "from nltk.stem.porter import PorterStemmer"
   ]
  },
  {
   "cell_type": "code",
   "execution_count": 7,
   "metadata": {},
   "outputs": [],
   "source": [
    "df = pd.read_excel('C:\\dev\\gen projects\\Manga Recommendation App\\Data\\manga.xlsx')"
   ]
  },
  {
   "cell_type": "code",
   "execution_count": 3,
   "metadata": {},
   "outputs": [
    {
     "name": "stdout",
     "output_type": "stream",
     "text": [
      "<class 'pandas.core.frame.DataFrame'>\n",
      "RangeIndex: 67273 entries, 0 to 67272\n",
      "Data columns (total 31 columns):\n",
      " #   Column             Non-Null Count  Dtype  \n",
      "---  ------             --------------  -----  \n",
      " 0   manga_id           67273 non-null  int64  \n",
      " 1   title              67271 non-null  object \n",
      " 2   type               67273 non-null  object \n",
      " 3   score              21910 non-null  float64\n",
      " 4   scored_by          67273 non-null  int64  \n",
      " 5   status             67273 non-null  object \n",
      " 6   volumes            50494 non-null  float64\n",
      " 7   chapters           47095 non-null  float64\n",
      " 8   start_date         62949 non-null  float64\n",
      " 9   end_date           51721 non-null  float64\n",
      " 10  members            67273 non-null  int64  \n",
      " 11  favorites          67273 non-null  int64  \n",
      " 12  sfw                67273 non-null  bool   \n",
      " 13  approved           67273 non-null  bool   \n",
      " 14  created_at_before  67273 non-null  object \n",
      " 15  updated_at         58991 non-null  object \n",
      " 16  real_start_date    62949 non-null  object \n",
      " 17  real_end_date      51721 non-null  object \n",
      " 18  genres             67273 non-null  object \n",
      " 19  themes             67273 non-null  object \n",
      " 20  demographics       67273 non-null  object \n",
      " 21  authors            67273 non-null  object \n",
      " 22  serializations     67273 non-null  object \n",
      " 23  synopsis           45619 non-null  object \n",
      " 24  background         9339 non-null   object \n",
      " 25  main_picture       64832 non-null  object \n",
      " 26  url                67273 non-null  object \n",
      " 27  title_english      18426 non-null  object \n",
      " 28  title_japanese     64584 non-null  object \n",
      " 29  title_synonyms     67273 non-null  object \n",
      " 30  jikan              67273 non-null  bool   \n",
      "dtypes: bool(3), float64(5), int64(4), object(19)\n",
      "memory usage: 14.6+ MB\n"
     ]
    }
   ],
   "source": [
    "df.info()"
   ]
  },
  {
   "cell_type": "code",
   "execution_count": 4,
   "metadata": {},
   "outputs": [
    {
     "data": {
      "text/plain": [
       "798      Plus Anima\n",
       "38371      Plus One\n",
       "Name: title_synonyms, dtype: object"
      ]
     },
     "execution_count": 4,
     "metadata": {},
     "output_type": "execute_result"
    }
   ],
   "source": [
    "df.title_synonyms[df.title.isna()].apply(lambda x: ast.literal_eval(x)[0])"
   ]
  },
  {
   "cell_type": "code",
   "execution_count": 8,
   "metadata": {},
   "outputs": [
    {
     "name": "stderr",
     "output_type": "stream",
     "text": [
      "<ipython-input-8-0faa445f5910>:3: SettingWithCopyWarning: \n",
      "A value is trying to be set on a copy of a slice from a DataFrame\n",
      "\n",
      "See the caveats in the documentation: https://pandas.pydata.org/pandas-docs/stable/user_guide/indexing.html#returning-a-view-versus-a-copy\n",
      "  df.ctitle[df.title.isna()] = df.title_synonyms[df.title.isna()].apply(lambda x: ast.literal_eval(x)[-1])\n"
     ]
    }
   ],
   "source": [
    "# filling in the empty titles\n",
    "df['ctitle'] = df.title\n",
    "df.ctitle[df.title.isna()] = df.title_synonyms[df.title.isna()].apply(lambda x: ast.literal_eval(x)[-1])"
   ]
  },
  {
   "cell_type": "code",
   "execution_count": 9,
   "metadata": {},
   "outputs": [
    {
     "data": {
      "text/plain": [
       "0"
      ]
     },
     "execution_count": 9,
     "metadata": {},
     "output_type": "execute_result"
    }
   ],
   "source": [
    "df.ctitle.isna().sum()"
   ]
  },
  {
   "cell_type": "code",
   "execution_count": 10,
   "metadata": {},
   "outputs": [
    {
     "data": {
      "text/plain": [
       "0"
      ]
     },
     "execution_count": 10,
     "metadata": {},
     "output_type": "execute_result"
    }
   ],
   "source": [
    "df.ctitle.isnull().sum()"
   ]
  },
  {
   "cell_type": "code",
   "execution_count": 11,
   "metadata": {},
   "outputs": [
    {
     "data": {
      "text/html": [
       "<div>\n",
       "<style scoped>\n",
       "    .dataframe tbody tr th:only-of-type {\n",
       "        vertical-align: middle;\n",
       "    }\n",
       "\n",
       "    .dataframe tbody tr th {\n",
       "        vertical-align: top;\n",
       "    }\n",
       "\n",
       "    .dataframe thead th {\n",
       "        text-align: right;\n",
       "    }\n",
       "</style>\n",
       "<table border=\"1\" class=\"dataframe\">\n",
       "  <thead>\n",
       "    <tr style=\"text-align: right;\">\n",
       "      <th></th>\n",
       "      <th>ctitle</th>\n",
       "      <th>title_synonyms</th>\n",
       "    </tr>\n",
       "  </thead>\n",
       "  <tbody>\n",
       "    <tr>\n",
       "      <th>68</th>\n",
       "      <td>Tokyo卍Revengers</td>\n",
       "      <td>['Tokyo Manji Revengers']</td>\n",
       "    </tr>\n",
       "    <tr>\n",
       "      <th>111</th>\n",
       "      <td>Kaze no Tani no Nausicaä</td>\n",
       "      <td>['Kaze no Tani no Nausicaa']</td>\n",
       "    </tr>\n",
       "    <tr>\n",
       "      <th>129</th>\n",
       "      <td>Lovely★Complex</td>\n",
       "      <td>['Love Com Plus', 'Lovely Complex Plus']</td>\n",
       "    </tr>\n",
       "    <tr>\n",
       "      <th>161</th>\n",
       "      <td>Shuumatsu no Walküre</td>\n",
       "      <td>['Shuumatsu no Valkyrie', 'Valkyrie of the End']</td>\n",
       "    </tr>\n",
       "    <tr>\n",
       "      <th>175</th>\n",
       "      <td>Yuu☆Yuu☆Hakusho</td>\n",
       "      <td>['Yuu Yuu Hakusho', 'YuYu Hakusho', 'Two Shots']</td>\n",
       "    </tr>\n",
       "    <tr>\n",
       "      <th>...</th>\n",
       "      <td>...</td>\n",
       "      <td>...</td>\n",
       "    </tr>\n",
       "    <tr>\n",
       "      <th>66970</th>\n",
       "      <td>Koryaku sareta mao beru wa akiramenai ！ Isekai...</td>\n",
       "      <td>['The defeated Demon King Bell will not give u...</td>\n",
       "    </tr>\n",
       "    <tr>\n",
       "      <th>66988</th>\n",
       "      <td>JSさんとOLちゃん</td>\n",
       "      <td>['Elementary School Girl and Office Lady']</td>\n",
       "    </tr>\n",
       "    <tr>\n",
       "      <th>67200</th>\n",
       "      <td>수상한메신저</td>\n",
       "      <td>['Mystic Messenger']</td>\n",
       "    </tr>\n",
       "    <tr>\n",
       "      <th>67259</th>\n",
       "      <td>Ai・Rabu・Yuu</td>\n",
       "      <td>['I Love You']</td>\n",
       "    </tr>\n",
       "    <tr>\n",
       "      <th>67271</th>\n",
       "      <td>兄だったモノ</td>\n",
       "      <td>['Ani datta Mono', 'He Was My Brother']</td>\n",
       "    </tr>\n",
       "  </tbody>\n",
       "</table>\n",
       "<p>1474 rows × 2 columns</p>\n",
       "</div>"
      ],
      "text/plain": [
       "                                                  ctitle  \\\n",
       "68                                       Tokyo卍Revengers   \n",
       "111                             Kaze no Tani no Nausicaä   \n",
       "129                                       Lovely★Complex   \n",
       "161                                 Shuumatsu no Walküre   \n",
       "175                                      Yuu☆Yuu☆Hakusho   \n",
       "...                                                  ...   \n",
       "66970  Koryaku sareta mao beru wa akiramenai ！ Isekai...   \n",
       "66988                                         JSさんとOLちゃん   \n",
       "67200                                             수상한메신저   \n",
       "67259                                        Ai・Rabu・Yuu   \n",
       "67271                                             兄だったモノ   \n",
       "\n",
       "                                          title_synonyms  \n",
       "68                             ['Tokyo Manji Revengers']  \n",
       "111                         ['Kaze no Tani no Nausicaa']  \n",
       "129             ['Love Com Plus', 'Lovely Complex Plus']  \n",
       "161     ['Shuumatsu no Valkyrie', 'Valkyrie of the End']  \n",
       "175     ['Yuu Yuu Hakusho', 'YuYu Hakusho', 'Two Shots']  \n",
       "...                                                  ...  \n",
       "66970  ['The defeated Demon King Bell will not give u...  \n",
       "66988         ['Elementary School Girl and Office Lady']  \n",
       "67200                               ['Mystic Messenger']  \n",
       "67259                                     ['I Love You']  \n",
       "67271            ['Ani datta Mono', 'He Was My Brother']  \n",
       "\n",
       "[1474 rows x 2 columns]"
      ]
     },
     "execution_count": 11,
     "metadata": {},
     "output_type": "execute_result"
    }
   ],
   "source": [
    "# checking for titles that are non roman texts\n",
    "df[['ctitle','title_synonyms']][(df.title.apply(lambda x: str(x).isascii()) == False) & (df.title_synonyms != '[]')]"
   ]
  },
  {
   "cell_type": "code",
   "execution_count": 12,
   "metadata": {},
   "outputs": [
    {
     "name": "stderr",
     "output_type": "stream",
     "text": [
      "<ipython-input-12-ae1534ace837>:1: SettingWithCopyWarning: \n",
      "A value is trying to be set on a copy of a slice from a DataFrame\n",
      "\n",
      "See the caveats in the documentation: https://pandas.pydata.org/pandas-docs/stable/user_guide/indexing.html#returning-a-view-versus-a-copy\n",
      "  df['ctitle'][(df.ctitle.apply(lambda x: str(x).isascii()) == False) & (df.title_synonyms != '[]')] = df['title_synonyms'][(df.title.apply(lambda x: str(x).isascii()) == False) & (df.title_synonyms != '[]')].apply(lambda x: ast.literal_eval(x)[-1])\n"
     ]
    }
   ],
   "source": [
    "df['ctitle'][(df.ctitle.apply(lambda x: str(x).isascii()) == False) & (df.title_synonyms != '[]')] = df['title_synonyms'][(df.title.apply(lambda x: str(x).isascii()) == False) & (df.title_synonyms != '[]')].apply(lambda x: ast.literal_eval(x)[-1])"
   ]
  },
  {
   "cell_type": "code",
   "execution_count": 13,
   "metadata": {},
   "outputs": [
    {
     "data": {
      "text/html": [
       "<div>\n",
       "<style scoped>\n",
       "    .dataframe tbody tr th:only-of-type {\n",
       "        vertical-align: middle;\n",
       "    }\n",
       "\n",
       "    .dataframe tbody tr th {\n",
       "        vertical-align: top;\n",
       "    }\n",
       "\n",
       "    .dataframe thead th {\n",
       "        text-align: right;\n",
       "    }\n",
       "</style>\n",
       "<table border=\"1\" class=\"dataframe\">\n",
       "  <thead>\n",
       "    <tr style=\"text-align: right;\">\n",
       "      <th></th>\n",
       "      <th>title</th>\n",
       "      <th>ctitle</th>\n",
       "      <th>title_synonyms</th>\n",
       "    </tr>\n",
       "  </thead>\n",
       "  <tbody>\n",
       "    <tr>\n",
       "      <th>554</th>\n",
       "      <td>Hitoribocchi no ○○ Seikatsu</td>\n",
       "      <td>Hitori Bocchi's ○○ Lifestyle</td>\n",
       "      <td>['Hitoribocchi no Marumaru Seikatsu', \"Hitori ...</td>\n",
       "    </tr>\n",
       "    <tr>\n",
       "      <th>1707</th>\n",
       "      <td>MÄR</td>\n",
       "      <td>MÄR-Heaven</td>\n",
       "      <td>['MAR', 'Märchen Awakens Romance', 'MAR-Heaven...</td>\n",
       "    </tr>\n",
       "    <tr>\n",
       "      <th>1771</th>\n",
       "      <td>Yarichin☆Bitch-bu</td>\n",
       "      <td>Yarichin☆Bitch Club</td>\n",
       "      <td>['Yarichin☆Bitch Club']</td>\n",
       "    </tr>\n",
       "    <tr>\n",
       "      <th>1928</th>\n",
       "      <td>Abarenbou♥Darling</td>\n",
       "      <td>Abarenbou♥Kareshi</td>\n",
       "      <td>['Abarenbou♥Kareshi']</td>\n",
       "    </tr>\n",
       "    <tr>\n",
       "      <th>2059</th>\n",
       "      <td>Bokura no☆Hikari Club</td>\n",
       "      <td>Our☆Hikari Club</td>\n",
       "      <td>['Our☆Hikari Club']</td>\n",
       "    </tr>\n",
       "    <tr>\n",
       "      <th>...</th>\n",
       "      <td>...</td>\n",
       "      <td>...</td>\n",
       "      <td>...</td>\n",
       "    </tr>\n",
       "    <tr>\n",
       "      <th>66047</th>\n",
       "      <td>“Suki” ni ikiyou</td>\n",
       "      <td>“スキ” に 生きよう</td>\n",
       "      <td>['“スキ” に 生きよう']</td>\n",
       "    </tr>\n",
       "    <tr>\n",
       "      <th>66224</th>\n",
       "      <td>Arsène Lupin Kaitou Shinshi</td>\n",
       "      <td>Arsène Lupin Kaitō Shinshi</td>\n",
       "      <td>['Arsène Lupin Kaitō Shinshi']</td>\n",
       "    </tr>\n",
       "    <tr>\n",
       "      <th>66225</th>\n",
       "      <td>Arsène Lupin Kaitou Shinshi</td>\n",
       "      <td>Arsène Lupin Kaitō Shinshi</td>\n",
       "      <td>['Arsène Lupin Kaitō Shinshi']</td>\n",
       "    </tr>\n",
       "    <tr>\n",
       "      <th>66350</th>\n",
       "      <td>Hello, Nice to Meet You. Let’s Divorce.</td>\n",
       "      <td>初めましてこんにちは、離婚してください</td>\n",
       "      <td>['初めましてこんにちは、離婚してください']</td>\n",
       "    </tr>\n",
       "    <tr>\n",
       "      <th>66388</th>\n",
       "      <td>안녕</td>\n",
       "      <td>여름아</td>\n",
       "      <td>['여름아']</td>\n",
       "    </tr>\n",
       "  </tbody>\n",
       "</table>\n",
       "<p>229 rows × 3 columns</p>\n",
       "</div>"
      ],
      "text/plain": [
       "                                         title                        ctitle  \\\n",
       "554                Hitoribocchi no ○○ Seikatsu  Hitori Bocchi's ○○ Lifestyle   \n",
       "1707                                       MÄR                    MÄR-Heaven   \n",
       "1771                         Yarichin☆Bitch-bu           Yarichin☆Bitch Club   \n",
       "1928                         Abarenbou♥Darling             Abarenbou♥Kareshi   \n",
       "2059                     Bokura no☆Hikari Club               Our☆Hikari Club   \n",
       "...                                        ...                           ...   \n",
       "66047                         “Suki” ni ikiyou                   “スキ” に 生きよう   \n",
       "66224              Arsène Lupin Kaitou Shinshi    Arsène Lupin Kaitō Shinshi   \n",
       "66225              Arsène Lupin Kaitou Shinshi    Arsène Lupin Kaitō Shinshi   \n",
       "66350  Hello, Nice to Meet You. Let’s Divorce.           初めましてこんにちは、離婚してください   \n",
       "66388                                       안녕                           여름아   \n",
       "\n",
       "                                          title_synonyms  \n",
       "554    ['Hitoribocchi no Marumaru Seikatsu', \"Hitori ...  \n",
       "1707   ['MAR', 'Märchen Awakens Romance', 'MAR-Heaven...  \n",
       "1771                             ['Yarichin☆Bitch Club']  \n",
       "1928                               ['Abarenbou♥Kareshi']  \n",
       "2059                                 ['Our☆Hikari Club']  \n",
       "...                                                  ...  \n",
       "66047                                    ['“スキ” に 生きよう']  \n",
       "66224                     ['Arsène Lupin Kaitō Shinshi']  \n",
       "66225                     ['Arsène Lupin Kaitō Shinshi']  \n",
       "66350                            ['初めましてこんにちは、離婚してください']  \n",
       "66388                                            ['여름아']  \n",
       "\n",
       "[229 rows x 3 columns]"
      ]
     },
     "execution_count": 13,
     "metadata": {},
     "output_type": "execute_result"
    }
   ],
   "source": [
    "# checking for titles that are non roman texts\n",
    "df[['title','ctitle','title_synonyms']][(df.ctitle.apply(lambda x: str(x).isascii()) == False) & (df.title_synonyms != '[]')]"
   ]
  },
  {
   "cell_type": "code",
   "execution_count": 14,
   "metadata": {},
   "outputs": [
    {
     "name": "stderr",
     "output_type": "stream",
     "text": [
      "<ipython-input-14-e1dedc1cb599>:1: SettingWithCopyWarning: \n",
      "A value is trying to be set on a copy of a slice from a DataFrame\n",
      "\n",
      "See the caveats in the documentation: https://pandas.pydata.org/pandas-docs/stable/user_guide/indexing.html#returning-a-view-versus-a-copy\n",
      "  df.ctitle[df.ctitle.apply(lambda x: str(x).isascii()) == False] = df.title[df.ctitle.apply(lambda x: str(x).isascii()) == False]\n"
     ]
    }
   ],
   "source": [
    "df.ctitle[df.ctitle.apply(lambda x: str(x).isascii()) == False] = df.title[df.ctitle.apply(lambda x: str(x).isascii()) == False]"
   ]
  },
  {
   "cell_type": "code",
   "execution_count": 15,
   "metadata": {},
   "outputs": [
    {
     "data": {
      "text/html": [
       "<div>\n",
       "<style scoped>\n",
       "    .dataframe tbody tr th:only-of-type {\n",
       "        vertical-align: middle;\n",
       "    }\n",
       "\n",
       "    .dataframe tbody tr th {\n",
       "        vertical-align: top;\n",
       "    }\n",
       "\n",
       "    .dataframe thead th {\n",
       "        text-align: right;\n",
       "    }\n",
       "</style>\n",
       "<table border=\"1\" class=\"dataframe\">\n",
       "  <thead>\n",
       "    <tr style=\"text-align: right;\">\n",
       "      <th></th>\n",
       "      <th>title</th>\n",
       "      <th>ctitle</th>\n",
       "      <th>title_synonyms</th>\n",
       "    </tr>\n",
       "  </thead>\n",
       "  <tbody>\n",
       "    <tr>\n",
       "      <th>554</th>\n",
       "      <td>Hitoribocchi no ○○ Seikatsu</td>\n",
       "      <td>Hitoribocchi no ○○ Seikatsu</td>\n",
       "      <td>['Hitoribocchi no Marumaru Seikatsu', \"Hitori ...</td>\n",
       "    </tr>\n",
       "    <tr>\n",
       "      <th>1707</th>\n",
       "      <td>MÄR</td>\n",
       "      <td>MÄR</td>\n",
       "      <td>['MAR', 'Märchen Awakens Romance', 'MAR-Heaven...</td>\n",
       "    </tr>\n",
       "    <tr>\n",
       "      <th>1771</th>\n",
       "      <td>Yarichin☆Bitch-bu</td>\n",
       "      <td>Yarichin☆Bitch-bu</td>\n",
       "      <td>['Yarichin☆Bitch Club']</td>\n",
       "    </tr>\n",
       "    <tr>\n",
       "      <th>1928</th>\n",
       "      <td>Abarenbou♥Darling</td>\n",
       "      <td>Abarenbou♥Darling</td>\n",
       "      <td>['Abarenbou♥Kareshi']</td>\n",
       "    </tr>\n",
       "    <tr>\n",
       "      <th>2059</th>\n",
       "      <td>Bokura no☆Hikari Club</td>\n",
       "      <td>Bokura no☆Hikari Club</td>\n",
       "      <td>['Our☆Hikari Club']</td>\n",
       "    </tr>\n",
       "    <tr>\n",
       "      <th>...</th>\n",
       "      <td>...</td>\n",
       "      <td>...</td>\n",
       "      <td>...</td>\n",
       "    </tr>\n",
       "    <tr>\n",
       "      <th>66047</th>\n",
       "      <td>“Suki” ni ikiyou</td>\n",
       "      <td>“Suki” ni ikiyou</td>\n",
       "      <td>['“スキ” に 生きよう']</td>\n",
       "    </tr>\n",
       "    <tr>\n",
       "      <th>66224</th>\n",
       "      <td>Arsène Lupin Kaitou Shinshi</td>\n",
       "      <td>Arsène Lupin Kaitou Shinshi</td>\n",
       "      <td>['Arsène Lupin Kaitō Shinshi']</td>\n",
       "    </tr>\n",
       "    <tr>\n",
       "      <th>66225</th>\n",
       "      <td>Arsène Lupin Kaitou Shinshi</td>\n",
       "      <td>Arsène Lupin Kaitou Shinshi</td>\n",
       "      <td>['Arsène Lupin Kaitō Shinshi']</td>\n",
       "    </tr>\n",
       "    <tr>\n",
       "      <th>66350</th>\n",
       "      <td>Hello, Nice to Meet You. Let’s Divorce.</td>\n",
       "      <td>Hello, Nice to Meet You. Let’s Divorce.</td>\n",
       "      <td>['初めましてこんにちは、離婚してください']</td>\n",
       "    </tr>\n",
       "    <tr>\n",
       "      <th>66388</th>\n",
       "      <td>안녕</td>\n",
       "      <td>안녕</td>\n",
       "      <td>['여름아']</td>\n",
       "    </tr>\n",
       "  </tbody>\n",
       "</table>\n",
       "<p>229 rows × 3 columns</p>\n",
       "</div>"
      ],
      "text/plain": [
       "                                         title  \\\n",
       "554                Hitoribocchi no ○○ Seikatsu   \n",
       "1707                                       MÄR   \n",
       "1771                         Yarichin☆Bitch-bu   \n",
       "1928                         Abarenbou♥Darling   \n",
       "2059                     Bokura no☆Hikari Club   \n",
       "...                                        ...   \n",
       "66047                         “Suki” ni ikiyou   \n",
       "66224              Arsène Lupin Kaitou Shinshi   \n",
       "66225              Arsène Lupin Kaitou Shinshi   \n",
       "66350  Hello, Nice to Meet You. Let’s Divorce.   \n",
       "66388                                       안녕   \n",
       "\n",
       "                                        ctitle  \\\n",
       "554                Hitoribocchi no ○○ Seikatsu   \n",
       "1707                                       MÄR   \n",
       "1771                         Yarichin☆Bitch-bu   \n",
       "1928                         Abarenbou♥Darling   \n",
       "2059                     Bokura no☆Hikari Club   \n",
       "...                                        ...   \n",
       "66047                         “Suki” ni ikiyou   \n",
       "66224              Arsène Lupin Kaitou Shinshi   \n",
       "66225              Arsène Lupin Kaitou Shinshi   \n",
       "66350  Hello, Nice to Meet You. Let’s Divorce.   \n",
       "66388                                       안녕   \n",
       "\n",
       "                                          title_synonyms  \n",
       "554    ['Hitoribocchi no Marumaru Seikatsu', \"Hitori ...  \n",
       "1707   ['MAR', 'Märchen Awakens Romance', 'MAR-Heaven...  \n",
       "1771                             ['Yarichin☆Bitch Club']  \n",
       "1928                               ['Abarenbou♥Kareshi']  \n",
       "2059                                 ['Our☆Hikari Club']  \n",
       "...                                                  ...  \n",
       "66047                                    ['“スキ” に 生きよう']  \n",
       "66224                     ['Arsène Lupin Kaitō Shinshi']  \n",
       "66225                     ['Arsène Lupin Kaitō Shinshi']  \n",
       "66350                            ['初めましてこんにちは、離婚してください']  \n",
       "66388                                            ['여름아']  \n",
       "\n",
       "[229 rows x 3 columns]"
      ]
     },
     "execution_count": 15,
     "metadata": {},
     "output_type": "execute_result"
    }
   ],
   "source": [
    "# checking for titles that are non roman texts\n",
    "df[['title','ctitle','title_synonyms']][(df.ctitle.apply(lambda x: str(x).isascii()) == False) & (df.title_synonyms != '[]')]"
   ]
  },
  {
   "cell_type": "markdown",
   "metadata": {},
   "source": [
    "### Creating the documents for the recommendation based on a combination of background and synopsis, genres and themes"
   ]
  },
  {
   "cell_type": "code",
   "execution_count": 36,
   "metadata": {},
   "outputs": [
    {
     "name": "stdout",
     "output_type": "stream",
     "text": [
      "<class 'pandas.core.frame.DataFrame'>\n",
      "RangeIndex: 67273 entries, 0 to 67272\n",
      "Data columns (total 7 columns):\n",
      " #   Column          Non-Null Count  Dtype \n",
      "---  ------          --------------  ----- \n",
      " 0   manga_id        67273 non-null  int64 \n",
      " 1   ctitle          67273 non-null  object\n",
      " 2   title_synonyms  67273 non-null  object\n",
      " 3   synopsis        45619 non-null  object\n",
      " 4   background      9339 non-null   object\n",
      " 5   genres          67273 non-null  object\n",
      " 6   themes          67273 non-null  object\n",
      "dtypes: int64(1), object(6)\n",
      "memory usage: 3.6+ MB\n"
     ]
    }
   ],
   "source": [
    "df_manga_rel = df[['manga_id','ctitle','title_synonyms','synopsis','background','genres','themes']]\n",
    "df_manga_rel.info()"
   ]
  },
  {
   "cell_type": "code",
   "execution_count": 37,
   "metadata": {},
   "outputs": [
    {
     "data": {
      "text/plain": [
       "manga_id              0\n",
       "ctitle                0\n",
       "title_synonyms        0\n",
       "synopsis          21654\n",
       "background        57934\n",
       "genres                0\n",
       "themes                0\n",
       "dtype: int64"
      ]
     },
     "execution_count": 37,
     "metadata": {},
     "output_type": "execute_result"
    }
   ],
   "source": [
    "df_manga_rel.isna().sum()"
   ]
  },
  {
   "cell_type": "markdown",
   "metadata": {},
   "source": [
    "##### Combining synpsis and background"
   ]
  },
  {
   "cell_type": "code",
   "execution_count": 38,
   "metadata": {},
   "outputs": [
    {
     "data": {
      "text/html": [
       "<div>\n",
       "<style scoped>\n",
       "    .dataframe tbody tr th:only-of-type {\n",
       "        vertical-align: middle;\n",
       "    }\n",
       "\n",
       "    .dataframe tbody tr th {\n",
       "        vertical-align: top;\n",
       "    }\n",
       "\n",
       "    .dataframe thead th {\n",
       "        text-align: right;\n",
       "    }\n",
       "</style>\n",
       "<table border=\"1\" class=\"dataframe\">\n",
       "  <thead>\n",
       "    <tr style=\"text-align: right;\">\n",
       "      <th></th>\n",
       "      <th>manga_id</th>\n",
       "      <th>ctitle</th>\n",
       "      <th>title_synonyms</th>\n",
       "      <th>synopsis</th>\n",
       "      <th>background</th>\n",
       "      <th>genres</th>\n",
       "      <th>themes</th>\n",
       "    </tr>\n",
       "  </thead>\n",
       "  <tbody>\n",
       "    <tr>\n",
       "      <th>1342</th>\n",
       "      <td>10376</td>\n",
       "      <td>Cavalier of the Abyss</td>\n",
       "      <td>[]</td>\n",
       "      <td>NaN</td>\n",
       "      <td>NaN</td>\n",
       "      <td>['Action', 'Adventure', 'Fantasy', 'Supernatur...</td>\n",
       "      <td>[]</td>\n",
       "    </tr>\n",
       "    <tr>\n",
       "      <th>1480</th>\n",
       "      <td>88110</td>\n",
       "      <td>Fate/stay night: Heaven's Feel</td>\n",
       "      <td>[]</td>\n",
       "      <td>NaN</td>\n",
       "      <td>NaN</td>\n",
       "      <td>['Action', 'Fantasy', 'Supernatural']</td>\n",
       "      <td>[]</td>\n",
       "    </tr>\n",
       "    <tr>\n",
       "      <th>1504</th>\n",
       "      <td>124483</td>\n",
       "      <td>Imaizumin Chi wa Douyara Gal no Tamariba ni Na...</td>\n",
       "      <td>[]</td>\n",
       "      <td>NaN</td>\n",
       "      <td>NaN</td>\n",
       "      <td>['Hentai']</td>\n",
       "      <td>['Harem']</td>\n",
       "    </tr>\n",
       "    <tr>\n",
       "      <th>1536</th>\n",
       "      <td>57711</td>\n",
       "      <td>Semete, Ano Yuki no You ni</td>\n",
       "      <td>['At Least, Like That Snow...']</td>\n",
       "      <td>NaN</td>\n",
       "      <td>NaN</td>\n",
       "      <td>['Drama', 'Romance']</td>\n",
       "      <td>['School']</td>\n",
       "    </tr>\n",
       "    <tr>\n",
       "      <th>1712</th>\n",
       "      <td>103803</td>\n",
       "      <td>Melancholia</td>\n",
       "      <td>[]</td>\n",
       "      <td>NaN</td>\n",
       "      <td>NaN</td>\n",
       "      <td>['Sci-Fi']</td>\n",
       "      <td>['Psychological']</td>\n",
       "    </tr>\n",
       "    <tr>\n",
       "      <th>...</th>\n",
       "      <td>...</td>\n",
       "      <td>...</td>\n",
       "      <td>...</td>\n",
       "      <td>...</td>\n",
       "      <td>...</td>\n",
       "      <td>...</td>\n",
       "      <td>...</td>\n",
       "    </tr>\n",
       "    <tr>\n",
       "      <th>67259</th>\n",
       "      <td>149649</td>\n",
       "      <td>I Love You</td>\n",
       "      <td>['I Love You']</td>\n",
       "      <td>NaN</td>\n",
       "      <td>NaN</td>\n",
       "      <td>['Romance', 'Slice of Life', 'Sports']</td>\n",
       "      <td>['Romantic Subtext']</td>\n",
       "    </tr>\n",
       "    <tr>\n",
       "      <th>67261</th>\n",
       "      <td>149651</td>\n",
       "      <td>Uwaki to Honki</td>\n",
       "      <td>[]</td>\n",
       "      <td>NaN</td>\n",
       "      <td>NaN</td>\n",
       "      <td>['Hentai']</td>\n",
       "      <td>[]</td>\n",
       "    </tr>\n",
       "    <tr>\n",
       "      <th>67266</th>\n",
       "      <td>149659</td>\n",
       "      <td>Little ☆ Enchanter</td>\n",
       "      <td>[]</td>\n",
       "      <td>NaN</td>\n",
       "      <td>NaN</td>\n",
       "      <td>['Hentai']</td>\n",
       "      <td>[]</td>\n",
       "    </tr>\n",
       "    <tr>\n",
       "      <th>67267</th>\n",
       "      <td>149660</td>\n",
       "      <td>雨と一緒に</td>\n",
       "      <td>[]</td>\n",
       "      <td>NaN</td>\n",
       "      <td>NaN</td>\n",
       "      <td>['Romance', 'Supernatural']</td>\n",
       "      <td>[]</td>\n",
       "    </tr>\n",
       "    <tr>\n",
       "      <th>67268</th>\n",
       "      <td>149662</td>\n",
       "      <td>Scary Campus College University</td>\n",
       "      <td>[]</td>\n",
       "      <td>NaN</td>\n",
       "      <td>NaN</td>\n",
       "      <td>['Horror', 'Supernatural', 'Suspense']</td>\n",
       "      <td>[]</td>\n",
       "    </tr>\n",
       "  </tbody>\n",
       "</table>\n",
       "<p>21647 rows × 7 columns</p>\n",
       "</div>"
      ],
      "text/plain": [
       "       manga_id                                             ctitle  \\\n",
       "1342      10376                              Cavalier of the Abyss   \n",
       "1480      88110                     Fate/stay night: Heaven's Feel   \n",
       "1504     124483  Imaizumin Chi wa Douyara Gal no Tamariba ni Na...   \n",
       "1536      57711                         Semete, Ano Yuki no You ni   \n",
       "1712     103803                                        Melancholia   \n",
       "...         ...                                                ...   \n",
       "67259    149649                                         I Love You   \n",
       "67261    149651                                     Uwaki to Honki   \n",
       "67266    149659                                 Little ☆ Enchanter   \n",
       "67267    149660                                              雨と一緒に   \n",
       "67268    149662                    Scary Campus College University   \n",
       "\n",
       "                        title_synonyms synopsis background  \\\n",
       "1342                                []      NaN        NaN   \n",
       "1480                                []      NaN        NaN   \n",
       "1504                                []      NaN        NaN   \n",
       "1536   ['At Least, Like That Snow...']      NaN        NaN   \n",
       "1712                                []      NaN        NaN   \n",
       "...                                ...      ...        ...   \n",
       "67259                   ['I Love You']      NaN        NaN   \n",
       "67261                               []      NaN        NaN   \n",
       "67266                               []      NaN        NaN   \n",
       "67267                               []      NaN        NaN   \n",
       "67268                               []      NaN        NaN   \n",
       "\n",
       "                                                  genres                themes  \n",
       "1342   ['Action', 'Adventure', 'Fantasy', 'Supernatur...                    []  \n",
       "1480               ['Action', 'Fantasy', 'Supernatural']                    []  \n",
       "1504                                          ['Hentai']             ['Harem']  \n",
       "1536                                ['Drama', 'Romance']            ['School']  \n",
       "1712                                          ['Sci-Fi']     ['Psychological']  \n",
       "...                                                  ...                   ...  \n",
       "67259             ['Romance', 'Slice of Life', 'Sports']  ['Romantic Subtext']  \n",
       "67261                                         ['Hentai']                    []  \n",
       "67266                                         ['Hentai']                    []  \n",
       "67267                        ['Romance', 'Supernatural']                    []  \n",
       "67268             ['Horror', 'Supernatural', 'Suspense']                    []  \n",
       "\n",
       "[21647 rows x 7 columns]"
      ]
     },
     "execution_count": 38,
     "metadata": {},
     "output_type": "execute_result"
    }
   ],
   "source": [
    "df_manga_rel[df_manga_rel.synopsis.isna() & df_manga_rel.background.isna()]"
   ]
  },
  {
   "cell_type": "code",
   "execution_count": 39,
   "metadata": {},
   "outputs": [
    {
     "name": "stderr",
     "output_type": "stream",
     "text": [
      "C:\\Users\\Ahmed\\AppData\\Roaming\\Python\\Python38\\site-packages\\pandas\\core\\series.py:4529: SettingWithCopyWarning: \n",
      "A value is trying to be set on a copy of a slice from a DataFrame\n",
      "\n",
      "See the caveats in the documentation: https://pandas.pydata.org/pandas-docs/stable/user_guide/indexing.html#returning-a-view-versus-a-copy\n",
      "  return super().fillna(\n"
     ]
    },
    {
     "data": {
      "text/plain": [
       "manga_id          0\n",
       "ctitle            0\n",
       "title_synonyms    0\n",
       "synopsis          0\n",
       "background        0\n",
       "genres            0\n",
       "themes            0\n",
       "dtype: int64"
      ]
     },
     "execution_count": 39,
     "metadata": {},
     "output_type": "execute_result"
    }
   ],
   "source": [
    "# fill the synopsis and background with empty space where empty\n",
    "df_manga_rel.synopsis.fillna(' ', inplace=True)\n",
    "df_manga_rel.background.fillna(' ', inplace=True)\n",
    "df_manga_rel.isna().sum()"
   ]
  },
  {
   "cell_type": "code",
   "execution_count": 40,
   "metadata": {},
   "outputs": [
    {
     "data": {
      "text/plain": [
       "0"
      ]
     },
     "execution_count": 40,
     "metadata": {},
     "output_type": "execute_result"
    }
   ],
   "source": [
    "(df_manga_rel.synopsis + ' ' + df_manga_rel.background).isna().sum()"
   ]
  },
  {
   "cell_type": "code",
   "execution_count": 41,
   "metadata": {},
   "outputs": [
    {
     "name": "stderr",
     "output_type": "stream",
     "text": [
      "<ipython-input-41-69d1a7b932b6>:2: SettingWithCopyWarning: \n",
      "A value is trying to be set on a copy of a slice from a DataFrame.\n",
      "Try using .loc[row_indexer,col_indexer] = value instead\n",
      "\n",
      "See the caveats in the documentation: https://pandas.pydata.org/pandas-docs/stable/user_guide/indexing.html#returning-a-view-versus-a-copy\n",
      "  df_manga_rel['description'] = df_manga_rel.synopsis + ' ' + df_manga_rel.background\n"
     ]
    }
   ],
   "source": [
    "# combining synopsis and background\n",
    "df_manga_rel['description'] = df_manga_rel.synopsis + ' ' + df_manga_rel.background\n"
   ]
  },
  {
   "cell_type": "code",
   "execution_count": 42,
   "metadata": {},
   "outputs": [
    {
     "data": {
      "text/html": [
       "<div>\n",
       "<style scoped>\n",
       "    .dataframe tbody tr th:only-of-type {\n",
       "        vertical-align: middle;\n",
       "    }\n",
       "\n",
       "    .dataframe tbody tr th {\n",
       "        vertical-align: top;\n",
       "    }\n",
       "\n",
       "    .dataframe thead th {\n",
       "        text-align: right;\n",
       "    }\n",
       "</style>\n",
       "<table border=\"1\" class=\"dataframe\">\n",
       "  <thead>\n",
       "    <tr style=\"text-align: right;\">\n",
       "      <th></th>\n",
       "      <th>manga_id</th>\n",
       "      <th>ctitle</th>\n",
       "      <th>title_synonyms</th>\n",
       "      <th>synopsis</th>\n",
       "      <th>background</th>\n",
       "      <th>genres</th>\n",
       "      <th>themes</th>\n",
       "      <th>description</th>\n",
       "    </tr>\n",
       "  </thead>\n",
       "  <tbody>\n",
       "  </tbody>\n",
       "</table>\n",
       "</div>"
      ],
      "text/plain": [
       "Empty DataFrame\n",
       "Columns: [manga_id, ctitle, title_synonyms, synopsis, background, genres, themes, description]\n",
       "Index: []"
      ]
     },
     "execution_count": 42,
     "metadata": {},
     "output_type": "execute_result"
    }
   ],
   "source": [
    "df_manga_rel[df_manga_rel.description.isna()]"
   ]
  },
  {
   "cell_type": "code",
   "execution_count": 43,
   "metadata": {},
   "outputs": [
    {
     "name": "stderr",
     "output_type": "stream",
     "text": [
      "C:\\Users\\Ahmed\\AppData\\Roaming\\Python\\Python38\\site-packages\\pandas\\core\\series.py:4575: SettingWithCopyWarning: \n",
      "A value is trying to be set on a copy of a slice from a DataFrame\n",
      "\n",
      "See the caveats in the documentation: https://pandas.pydata.org/pandas-docs/stable/user_guide/indexing.html#returning-a-view-versus-a-copy\n",
      "  return super().replace(\n"
     ]
    }
   ],
   "source": [
    "df_manga_rel['description'].replace(' ', '', inplace=True)"
   ]
  },
  {
   "cell_type": "code",
   "execution_count": 44,
   "metadata": {},
   "outputs": [
    {
     "name": "stdout",
     "output_type": "stream",
     "text": [
      "<class 'pandas.core.frame.DataFrame'>\n",
      "RangeIndex: 67273 entries, 0 to 67272\n",
      "Data columns (total 8 columns):\n",
      " #   Column          Non-Null Count  Dtype \n",
      "---  ------          --------------  ----- \n",
      " 0   manga_id        67273 non-null  int64 \n",
      " 1   ctitle          67273 non-null  object\n",
      " 2   title_synonyms  67273 non-null  object\n",
      " 3   synopsis        67273 non-null  object\n",
      " 4   background      67273 non-null  object\n",
      " 5   genres          67273 non-null  object\n",
      " 6   themes          67273 non-null  object\n",
      " 7   description     67273 non-null  object\n",
      "dtypes: int64(1), object(7)\n",
      "memory usage: 4.1+ MB\n"
     ]
    }
   ],
   "source": [
    "df_manga_rel.info()"
   ]
  },
  {
   "cell_type": "code",
   "execution_count": 45,
   "metadata": {},
   "outputs": [
    {
     "data": {
      "text/plain": [
       "manga_id          0\n",
       "ctitle            0\n",
       "title_synonyms    0\n",
       "synopsis          0\n",
       "background        0\n",
       "genres            0\n",
       "themes            0\n",
       "description       0\n",
       "dtype: int64"
      ]
     },
     "execution_count": 45,
     "metadata": {},
     "output_type": "execute_result"
    }
   ],
   "source": [
    "df_manga_rel.isna().sum()"
   ]
  },
  {
   "cell_type": "markdown",
   "metadata": {},
   "source": [
    "##### process genres and themes"
   ]
  },
  {
   "cell_type": "code",
   "execution_count": 46,
   "metadata": {},
   "outputs": [
    {
     "data": {
      "text/html": [
       "<div>\n",
       "<style scoped>\n",
       "    .dataframe tbody tr th:only-of-type {\n",
       "        vertical-align: middle;\n",
       "    }\n",
       "\n",
       "    .dataframe tbody tr th {\n",
       "        vertical-align: top;\n",
       "    }\n",
       "\n",
       "    .dataframe thead th {\n",
       "        text-align: right;\n",
       "    }\n",
       "</style>\n",
       "<table border=\"1\" class=\"dataframe\">\n",
       "  <thead>\n",
       "    <tr style=\"text-align: right;\">\n",
       "      <th></th>\n",
       "      <th>manga_id</th>\n",
       "      <th>ctitle</th>\n",
       "      <th>title_synonyms</th>\n",
       "      <th>synopsis</th>\n",
       "      <th>background</th>\n",
       "      <th>genres</th>\n",
       "      <th>themes</th>\n",
       "      <th>description</th>\n",
       "    </tr>\n",
       "  </thead>\n",
       "  <tbody>\n",
       "  </tbody>\n",
       "</table>\n",
       "</div>"
      ],
      "text/plain": [
       "Empty DataFrame\n",
       "Columns: [manga_id, ctitle, title_synonyms, synopsis, background, genres, themes, description]\n",
       "Index: []"
      ]
     },
     "execution_count": 46,
     "metadata": {},
     "output_type": "execute_result"
    }
   ],
   "source": [
    "df_manga_rel[df_manga_rel.genres.isna() & df_manga_rel.themes.isna()]"
   ]
  },
  {
   "cell_type": "code",
   "execution_count": 47,
   "metadata": {},
   "outputs": [],
   "source": [
    "def process_genres_themes(x):\n",
    "    return ' '.join('|'.join(ast.literal_eval(x)).replace(' ','').split('|'))"
   ]
  },
  {
   "cell_type": "code",
   "execution_count": 48,
   "metadata": {},
   "outputs": [
    {
     "name": "stderr",
     "output_type": "stream",
     "text": [
      "C:\\Users\\Ahmed\\AppData\\Roaming\\Python\\Python38\\site-packages\\pandas\\core\\generic.py:5168: SettingWithCopyWarning: \n",
      "A value is trying to be set on a copy of a slice from a DataFrame.\n",
      "Try using .loc[row_indexer,col_indexer] = value instead\n",
      "\n",
      "See the caveats in the documentation: https://pandas.pydata.org/pandas-docs/stable/user_guide/indexing.html#returning-a-view-versus-a-copy\n",
      "  self[name] = value\n"
     ]
    },
    {
     "data": {
      "text/plain": [
       "manga_id          0\n",
       "ctitle            0\n",
       "title_synonyms    0\n",
       "synopsis          0\n",
       "background        0\n",
       "genres            0\n",
       "themes            0\n",
       "description       0\n",
       "dtype: int64"
      ]
     },
     "execution_count": 48,
     "metadata": {},
     "output_type": "execute_result"
    }
   ],
   "source": [
    "df_manga_rel.genres = df_manga_rel.genres.apply(process_genres_themes)\n",
    "df_manga_rel.themes = df_manga_rel.themes.apply(process_genres_themes)\n",
    "df_manga_rel.isna().sum()"
   ]
  },
  {
   "cell_type": "code",
   "execution_count": 49,
   "metadata": {},
   "outputs": [
    {
     "name": "stderr",
     "output_type": "stream",
     "text": [
      "<ipython-input-49-b87f89b9cd9f>:1: SettingWithCopyWarning: \n",
      "A value is trying to be set on a copy of a slice from a DataFrame.\n",
      "Try using .loc[row_indexer,col_indexer] = value instead\n",
      "\n",
      "See the caveats in the documentation: https://pandas.pydata.org/pandas-docs/stable/user_guide/indexing.html#returning-a-view-versus-a-copy\n",
      "  df_manga_rel['genres_and_themes'] = df_manga_rel['genres'] + ' ' + df_manga_rel['themes']\n"
     ]
    },
    {
     "data": {
      "text/plain": [
       "0        Action Adventure AwardWinning Drama Fantasy Ho...\n",
       "1                                Action Adventure Fantasy \n",
       "2        Action Adventure AwardWinning Drama Fantasy Mi...\n",
       "3        Action Adventure Horror Mystery Supernatural H...\n",
       "4                          Drama SliceofLife Psychological\n",
       "                               ...                        \n",
       "67268                        Horror Supernatural Suspense \n",
       "67269                            Action Adventure Fantasy \n",
       "67270    BoysLove Fantasy Romance Historical Reincarnation\n",
       "67271    BoysLove Drama Horror Romance Supernatural Psy...\n",
       "67272                                            BoysLove \n",
       "Name: genres_and_themes, Length: 67273, dtype: object"
      ]
     },
     "execution_count": 49,
     "metadata": {},
     "output_type": "execute_result"
    }
   ],
   "source": [
    "df_manga_rel['genres_and_themes'] = df_manga_rel['genres'] + ' ' + df_manga_rel['themes']\n",
    "df_manga_rel['genres_and_themes']"
   ]
  },
  {
   "cell_type": "code",
   "execution_count": 50,
   "metadata": {},
   "outputs": [
    {
     "data": {
      "text/plain": [
       "manga_id             0\n",
       "ctitle               0\n",
       "title_synonyms       0\n",
       "synopsis             0\n",
       "background           0\n",
       "genres               0\n",
       "themes               0\n",
       "description          0\n",
       "genres_and_themes    0\n",
       "dtype: int64"
      ]
     },
     "execution_count": 50,
     "metadata": {},
     "output_type": "execute_result"
    }
   ],
   "source": [
    "df_manga_rel.isna().sum()"
   ]
  },
  {
   "cell_type": "markdown",
   "metadata": {},
   "source": [
    "### Creating a vectorizer"
   ]
  },
  {
   "cell_type": "code",
   "execution_count": 51,
   "metadata": {},
   "outputs": [],
   "source": [
    "def process_description(text):\n",
    "    # replace multiple spaces with one\n",
    "    text = \" \".join(text.split())\n",
    "    stemer = PorterStemmer()\n",
    "\n",
    "    # lowercase\n",
    "    text = text.lower()\n",
    "    text = stemer.stem(text)\n",
    "    return text\n",
    "\n",
    "def process_genresandthemes(text):\n",
    "    # replace multiple spaces with one\n",
    "    text = \" \".join(text.split())\n",
    "\n",
    "    # lowercase\n",
    "    text = text.lower()\n",
    "    return text"
   ]
  },
  {
   "cell_type": "code",
   "execution_count": 52,
   "metadata": {},
   "outputs": [
    {
     "name": "stderr",
     "output_type": "stream",
     "text": [
      "<ipython-input-52-e16985e15711>:1: SettingWithCopyWarning: \n",
      "A value is trying to be set on a copy of a slice from a DataFrame.\n",
      "Try using .loc[row_indexer,col_indexer] = value instead\n",
      "\n",
      "See the caveats in the documentation: https://pandas.pydata.org/pandas-docs/stable/user_guide/indexing.html#returning-a-view-versus-a-copy\n",
      "  df_manga_rel['description_clean'] = df_manga_rel.description.apply(lambda x: process_description(x))\n"
     ]
    }
   ],
   "source": [
    "df_manga_rel['description_clean'] = df_manga_rel.description.apply(lambda x: process_description(x))"
   ]
  },
  {
   "cell_type": "code",
   "execution_count": 53,
   "metadata": {},
   "outputs": [
    {
     "name": "stderr",
     "output_type": "stream",
     "text": [
      "<ipython-input-53-5aecf9b353dc>:1: SettingWithCopyWarning: \n",
      "A value is trying to be set on a copy of a slice from a DataFrame.\n",
      "Try using .loc[row_indexer,col_indexer] = value instead\n",
      "\n",
      "See the caveats in the documentation: https://pandas.pydata.org/pandas-docs/stable/user_guide/indexing.html#returning-a-view-versus-a-copy\n",
      "  df_manga_rel['gt_clean'] = df_manga_rel.genres_and_themes.apply(lambda x: process_genresandthemes(x))\n"
     ]
    }
   ],
   "source": [
    "df_manga_rel['gt_clean'] = df_manga_rel.genres_and_themes.apply(lambda x: process_genresandthemes(x))"
   ]
  },
  {
   "cell_type": "code",
   "execution_count": 54,
   "metadata": {},
   "outputs": [
    {
     "data": {
      "text/plain": [
       "manga_id             0\n",
       "ctitle               0\n",
       "title_synonyms       0\n",
       "synopsis             0\n",
       "background           0\n",
       "genres               0\n",
       "themes               0\n",
       "description          0\n",
       "genres_and_themes    0\n",
       "description_clean    0\n",
       "gt_clean             0\n",
       "dtype: int64"
      ]
     },
     "execution_count": 54,
     "metadata": {},
     "output_type": "execute_result"
    }
   ],
   "source": [
    "df_manga_rel.isna().sum()"
   ]
  },
  {
   "cell_type": "code",
   "execution_count": 55,
   "metadata": {},
   "outputs": [
    {
     "data": {
      "text/plain": [
       "manga_id             0\n",
       "ctitle               0\n",
       "title_synonyms       0\n",
       "synopsis             0\n",
       "background           0\n",
       "genres               0\n",
       "themes               0\n",
       "description          0\n",
       "genres_and_themes    0\n",
       "description_clean    0\n",
       "gt_clean             0\n",
       "dtype: int64"
      ]
     },
     "execution_count": 55,
     "metadata": {},
     "output_type": "execute_result"
    }
   ],
   "source": [
    "df_manga_rel.isnull().sum()"
   ]
  },
  {
   "cell_type": "code",
   "execution_count": 62,
   "metadata": {},
   "outputs": [
    {
     "data": {
      "text/html": [
       "<div>\n",
       "<style scoped>\n",
       "    .dataframe tbody tr th:only-of-type {\n",
       "        vertical-align: middle;\n",
       "    }\n",
       "\n",
       "    .dataframe tbody tr th {\n",
       "        vertical-align: top;\n",
       "    }\n",
       "\n",
       "    .dataframe thead th {\n",
       "        text-align: right;\n",
       "    }\n",
       "</style>\n",
       "<table border=\"1\" class=\"dataframe\">\n",
       "  <thead>\n",
       "    <tr style=\"text-align: right;\">\n",
       "      <th></th>\n",
       "      <th>manga_id</th>\n",
       "      <th>ctitle</th>\n",
       "      <th>title_synonyms</th>\n",
       "      <th>synopsis</th>\n",
       "      <th>background</th>\n",
       "      <th>genres</th>\n",
       "      <th>themes</th>\n",
       "      <th>description</th>\n",
       "      <th>genres_and_themes</th>\n",
       "      <th>description_clean</th>\n",
       "      <th>gt_clean</th>\n",
       "    </tr>\n",
       "  </thead>\n",
       "  <tbody>\n",
       "  </tbody>\n",
       "</table>\n",
       "</div>"
      ],
      "text/plain": [
       "Empty DataFrame\n",
       "Columns: [manga_id, ctitle, title_synonyms, synopsis, background, genres, themes, description, genres_and_themes, description_clean, gt_clean]\n",
       "Index: []"
      ]
     },
     "execution_count": 62,
     "metadata": {},
     "output_type": "execute_result"
    }
   ],
   "source": [
    "df_manga_rel[df_manga_rel.genres_and_themes.isnull()]"
   ]
  },
  {
   "cell_type": "code",
   "execution_count": 56,
   "metadata": {},
   "outputs": [],
   "source": [
    "df_manga_rel.to_csv('../artifacts/manga_clean.csv')"
   ]
  },
  {
   "cell_type": "code",
   "execution_count": 3,
   "metadata": {},
   "outputs": [],
   "source": [
    "df_manga_rel_clean = pd.read_csv('../artifacts/manga_clean.csv')"
   ]
  },
  {
   "cell_type": "code",
   "execution_count": 4,
   "metadata": {},
   "outputs": [],
   "source": [
    "df_manga_rel_clean.fillna('', inplace=True)"
   ]
  },
  {
   "cell_type": "code",
   "execution_count": 5,
   "metadata": {},
   "outputs": [
    {
     "data": {
      "text/plain": [
       "Unnamed: 0           0\n",
       "manga_id             0\n",
       "ctitle               0\n",
       "title_synonyms       0\n",
       "synopsis             0\n",
       "background           0\n",
       "genres               0\n",
       "themes               0\n",
       "description          0\n",
       "genres_and_themes    0\n",
       "description_clean    0\n",
       "gt_clean             0\n",
       "dtype: int64"
      ]
     },
     "execution_count": 5,
     "metadata": {},
     "output_type": "execute_result"
    }
   ],
   "source": [
    "df_manga_rel_clean.isna().sum()"
   ]
  },
  {
   "cell_type": "code",
   "execution_count": 25,
   "metadata": {},
   "outputs": [],
   "source": [
    "import pickle\n",
    "def save_object(filepath, object):\n",
    "    objectrepo = open(filepath, 'wb')\n",
    "    pickle.dump(object, objectrepo, protocol=pickle.HIGHEST_PROTOCOL)\n",
    "    objectrepo.close()"
   ]
  },
  {
   "cell_type": "code",
   "execution_count": 22,
   "metadata": {},
   "outputs": [
    {
     "data": {
      "text/plain": [
       "<67273x85465 sparse matrix of type '<class 'numpy.float64'>'\n",
       "\twith 1568107 stored elements in Compressed Sparse Row format>"
      ]
     },
     "execution_count": 22,
     "metadata": {},
     "output_type": "execute_result"
    }
   ],
   "source": [
    "# vectorizer for description will use tfidf\n",
    "tf_idf = TfidfVectorizer(stop_words='english')\n",
    "tf_idf_mat_desc = tf_idf.fit_transform(df_manga_rel['description_clean'])\n",
    "tf_idf_mat_desc"
   ]
  },
  {
   "cell_type": "code",
   "execution_count": 26,
   "metadata": {},
   "outputs": [],
   "source": [
    "save_object('../artifacts/tfidf_desc.pkl', tf_idf_mat_desc)"
   ]
  },
  {
   "cell_type": "code",
   "execution_count": 11,
   "metadata": {},
   "outputs": [],
   "source": [
    "from scipy import sparse\n",
    "\n",
    "def opt_cos_sim(vect, batch_size, clip_value):\n",
    "    num_batches = int(vect.shape[0]/batch_size)\n",
    "    # results = np.zeros((vect.shape[0], vect.shape[0]))\n",
    "    results = sparse.lil_matrix((vect.shape[0], vect.shape[0]))\n",
    "    \n",
    "    for i in range(num_batches):\n",
    "        print(f'Batch {i}')\n",
    "        start = i * batch_size\n",
    "        end = (i+1) * batch_size\n",
    "        arr = cosine_similarity(vect[start:end], vect)\n",
    "        arr[arr < clip_value] = 0\n",
    "        results[start:end] = arr\n",
    "    \n",
    "    rem = vect.shape[0]%batch_size\n",
    "    results[-rem:] = cosine_similarity(vect[-rem:], vect)\n",
    "    # results[results < 0.5] = 0\n",
    "    # sparse_matrix = sparse.csr_matrix(results)\n",
    "\n",
    "    return results\n"
   ]
  },
  {
   "cell_type": "code",
   "execution_count": 28,
   "metadata": {},
   "outputs": [
    {
     "data": {
      "text/plain": [
       "5862474"
      ]
     },
     "execution_count": 28,
     "metadata": {},
     "output_type": "execute_result"
    }
   ],
   "source": [
    "cos_simi_mat_desc = opt_cos_sim(tf_idf_mat_desc, 1000, 0.15)\n",
    "cos_simi_mat_desc.size"
   ]
  },
  {
   "cell_type": "code",
   "execution_count": 36,
   "metadata": {},
   "outputs": [
    {
     "data": {
      "text/plain": [
       "(67273, 67273)"
      ]
     },
     "execution_count": 36,
     "metadata": {},
     "output_type": "execute_result"
    }
   ],
   "source": [
    "cos_simi_mat_desc.shape"
   ]
  },
  {
   "cell_type": "code",
   "execution_count": 39,
   "metadata": {},
   "outputs": [
    {
     "data": {
      "text/plain": [
       "matrix([[1., 0., 0., ..., 0., 0., 0.]])"
      ]
     },
     "execution_count": 39,
     "metadata": {},
     "output_type": "execute_result"
    }
   ],
   "source": [
    "cos_simi_mat_desc[0].todense()"
   ]
  },
  {
   "cell_type": "code",
   "execution_count": 27,
   "metadata": {},
   "outputs": [
    {
     "data": {
      "text/plain": [
       "<67273x75 sparse matrix of type '<class 'numpy.int64'>'\n",
       "\twith 160777 stored elements in Compressed Sparse Row format>"
      ]
     },
     "execution_count": 27,
     "metadata": {},
     "output_type": "execute_result"
    }
   ],
   "source": [
    "#vectorizer for genres and themes will be a count vectorizer\n",
    "count_vec = CountVectorizer(stop_words='english')\n",
    "count_vec_mat_gt = count_vec.fit_transform(df_manga_rel_clean['gt_clean'])\n",
    "count_vec_mat_gt"
   ]
  },
  {
   "cell_type": "code",
   "execution_count": 13,
   "metadata": {},
   "outputs": [
    {
     "name": "stdout",
     "output_type": "stream",
     "text": [
      "Batch 0\n",
      "Batch 1\n",
      "Batch 2\n",
      "Batch 3\n",
      "Batch 4\n",
      "Batch 5\n",
      "Batch 6\n",
      "Batch 7\n",
      "Batch 8\n",
      "Batch 9\n",
      "Batch 10\n"
     ]
    },
    {
     "ename": "KeyboardInterrupt",
     "evalue": "",
     "output_type": "error",
     "traceback": [
      "\u001b[1;31m---------------------------------------------------------------------------\u001b[0m",
      "\u001b[1;31mKeyboardInterrupt\u001b[0m                         Traceback (most recent call last)",
      "\u001b[1;32m<ipython-input-13-b9e3c51ee7b9>\u001b[0m in \u001b[0;36m<module>\u001b[1;34m\u001b[0m\n\u001b[1;32m----> 1\u001b[1;33m \u001b[0mcos_simi_mat_gt\u001b[0m \u001b[1;33m=\u001b[0m \u001b[0mopt_cos_sim\u001b[0m\u001b[1;33m(\u001b[0m\u001b[0mcount_vec_mat_gt\u001b[0m\u001b[1;33m,\u001b[0m \u001b[1;36m1000\u001b[0m\u001b[1;33m,\u001b[0m \u001b[1;36m0.7\u001b[0m\u001b[1;33m)\u001b[0m\u001b[1;33m\u001b[0m\u001b[1;33m\u001b[0m\u001b[0m\n\u001b[0m\u001b[0;32m      2\u001b[0m \u001b[0mcos_simi_mat_gt\u001b[0m\u001b[1;33m.\u001b[0m\u001b[0mshape\u001b[0m\u001b[1;33m\u001b[0m\u001b[1;33m\u001b[0m\u001b[0m\n",
      "\u001b[1;32m<ipython-input-11-f7c38877f776>\u001b[0m in \u001b[0;36mopt_cos_sim\u001b[1;34m(vect, batch_size, clip_value)\u001b[0m\n\u001b[0;32m     13\u001b[0m         \u001b[0marr\u001b[0m \u001b[1;33m=\u001b[0m \u001b[0mcosine_similarity\u001b[0m\u001b[1;33m(\u001b[0m\u001b[0mvect\u001b[0m\u001b[1;33m[\u001b[0m\u001b[0mstart\u001b[0m\u001b[1;33m:\u001b[0m\u001b[0mend\u001b[0m\u001b[1;33m]\u001b[0m\u001b[1;33m,\u001b[0m \u001b[0mvect\u001b[0m\u001b[1;33m)\u001b[0m\u001b[1;33m\u001b[0m\u001b[1;33m\u001b[0m\u001b[0m\n\u001b[0;32m     14\u001b[0m         \u001b[0marr\u001b[0m\u001b[1;33m[\u001b[0m\u001b[0marr\u001b[0m \u001b[1;33m<\u001b[0m \u001b[0mclip_value\u001b[0m\u001b[1;33m]\u001b[0m \u001b[1;33m=\u001b[0m \u001b[1;36m0\u001b[0m\u001b[1;33m\u001b[0m\u001b[1;33m\u001b[0m\u001b[0m\n\u001b[1;32m---> 15\u001b[1;33m         \u001b[0mresults\u001b[0m\u001b[1;33m[\u001b[0m\u001b[0mstart\u001b[0m\u001b[1;33m:\u001b[0m\u001b[0mend\u001b[0m\u001b[1;33m]\u001b[0m \u001b[1;33m=\u001b[0m \u001b[0marr\u001b[0m\u001b[1;33m\u001b[0m\u001b[1;33m\u001b[0m\u001b[0m\n\u001b[0m\u001b[0;32m     16\u001b[0m \u001b[1;33m\u001b[0m\u001b[0m\n\u001b[0;32m     17\u001b[0m     \u001b[0mrem\u001b[0m \u001b[1;33m=\u001b[0m \u001b[0mvect\u001b[0m\u001b[1;33m.\u001b[0m\u001b[0mshape\u001b[0m\u001b[1;33m[\u001b[0m\u001b[1;36m0\u001b[0m\u001b[1;33m]\u001b[0m\u001b[1;33m%\u001b[0m\u001b[0mbatch_size\u001b[0m\u001b[1;33m\u001b[0m\u001b[1;33m\u001b[0m\u001b[0m\n",
      "\u001b[1;32m~\\AppData\\Roaming\\Python\\Python38\\site-packages\\scipy\\sparse\\lil.py\u001b[0m in \u001b[0;36m__setitem__\u001b[1;34m(self, key, x)\u001b[0m\n\u001b[0;32m    331\u001b[0m             \u001b[1;32mreturn\u001b[0m \u001b[0mself\u001b[0m\u001b[1;33m.\u001b[0m\u001b[0m_set_intXint\u001b[0m\u001b[1;33m(\u001b[0m\u001b[0mkey\u001b[0m\u001b[1;33m[\u001b[0m\u001b[1;36m0\u001b[0m\u001b[1;33m]\u001b[0m\u001b[1;33m,\u001b[0m \u001b[0mkey\u001b[0m\u001b[1;33m[\u001b[0m\u001b[1;36m1\u001b[0m\u001b[1;33m]\u001b[0m\u001b[1;33m,\u001b[0m \u001b[0mx\u001b[0m\u001b[1;33m)\u001b[0m\u001b[1;33m\u001b[0m\u001b[1;33m\u001b[0m\u001b[0m\n\u001b[0;32m    332\u001b[0m         \u001b[1;31m# Everything else takes the normal path.\u001b[0m\u001b[1;33m\u001b[0m\u001b[1;33m\u001b[0m\u001b[1;33m\u001b[0m\u001b[0m\n\u001b[1;32m--> 333\u001b[1;33m         \u001b[0mIndexMixin\u001b[0m\u001b[1;33m.\u001b[0m\u001b[0m__setitem__\u001b[0m\u001b[1;33m(\u001b[0m\u001b[0mself\u001b[0m\u001b[1;33m,\u001b[0m \u001b[0mkey\u001b[0m\u001b[1;33m,\u001b[0m \u001b[0mx\u001b[0m\u001b[1;33m)\u001b[0m\u001b[1;33m\u001b[0m\u001b[1;33m\u001b[0m\u001b[0m\n\u001b[0m\u001b[0;32m    334\u001b[0m \u001b[1;33m\u001b[0m\u001b[0m\n\u001b[0;32m    335\u001b[0m     \u001b[1;32mdef\u001b[0m \u001b[0m_mul_scalar\u001b[0m\u001b[1;33m(\u001b[0m\u001b[0mself\u001b[0m\u001b[1;33m,\u001b[0m \u001b[0mother\u001b[0m\u001b[1;33m)\u001b[0m\u001b[1;33m:\u001b[0m\u001b[1;33m\u001b[0m\u001b[1;33m\u001b[0m\u001b[0m\n",
      "\u001b[1;32m~\\AppData\\Roaming\\Python\\Python38\\site-packages\\scipy\\sparse\\_index.py\u001b[0m in \u001b[0;36m__setitem__\u001b[1;34m(self, key, x)\u001b[0m\n\u001b[0;32m    123\u001b[0m                 \u001b[1;32mreturn\u001b[0m\u001b[1;33m\u001b[0m\u001b[1;33m\u001b[0m\u001b[0m\n\u001b[0;32m    124\u001b[0m             \u001b[0mx\u001b[0m \u001b[1;33m=\u001b[0m \u001b[0mx\u001b[0m\u001b[1;33m.\u001b[0m\u001b[0mreshape\u001b[0m\u001b[1;33m(\u001b[0m\u001b[0mi\u001b[0m\u001b[1;33m.\u001b[0m\u001b[0mshape\u001b[0m\u001b[1;33m)\u001b[0m\u001b[1;33m\u001b[0m\u001b[1;33m\u001b[0m\u001b[0m\n\u001b[1;32m--> 125\u001b[1;33m             \u001b[0mself\u001b[0m\u001b[1;33m.\u001b[0m\u001b[0m_set_arrayXarray\u001b[0m\u001b[1;33m(\u001b[0m\u001b[0mi\u001b[0m\u001b[1;33m,\u001b[0m \u001b[0mj\u001b[0m\u001b[1;33m,\u001b[0m \u001b[0mx\u001b[0m\u001b[1;33m)\u001b[0m\u001b[1;33m\u001b[0m\u001b[1;33m\u001b[0m\u001b[0m\n\u001b[0m\u001b[0;32m    126\u001b[0m \u001b[1;33m\u001b[0m\u001b[0m\n\u001b[0;32m    127\u001b[0m     \u001b[1;32mdef\u001b[0m \u001b[0m_validate_indices\u001b[0m\u001b[1;33m(\u001b[0m\u001b[0mself\u001b[0m\u001b[1;33m,\u001b[0m \u001b[0mkey\u001b[0m\u001b[1;33m)\u001b[0m\u001b[1;33m:\u001b[0m\u001b[1;33m\u001b[0m\u001b[1;33m\u001b[0m\u001b[0m\n",
      "\u001b[1;31mKeyboardInterrupt\u001b[0m: "
     ]
    }
   ],
   "source": [
    "cos_simi_mat_gt = opt_cos_sim(count_vec_mat_gt, 1000, 0.7)\n",
    "cos_simi_mat_gt.shape"
   ]
  },
  {
   "cell_type": "code",
   "execution_count": null,
   "metadata": {},
   "outputs": [],
   "source": [
    "save_object('./artifacts/cosine_similarity_gt.pkl', cos_simi_mat_gt)"
   ]
  },
  {
   "cell_type": "code",
   "execution_count": 15,
   "metadata": {},
   "outputs": [],
   "source": [
    "cos_simi_mat_gt = 0"
   ]
  },
  {
   "cell_type": "code",
   "execution_count": 6,
   "metadata": {},
   "outputs": [],
   "source": [
    "import pickle\n",
    "def read_object(filepath):\n",
    "    obfile = open(filepath, 'rb')\n",
    "    object = pickle.load(obfile)\n",
    "    obfile.close()\n",
    "    return object"
   ]
  },
  {
   "cell_type": "code",
   "execution_count": 7,
   "metadata": {},
   "outputs": [],
   "source": [
    "def index_from_title(df,title):\n",
    "    return df[df['ctitle'] == title].index.values[0]\n",
    "\n",
    "def title_from_index(df, index):\n",
    "    return df[df.index == index].title.values[0]\n",
    "\n",
    "def recommendations(original_title, df, cosine_similarity_matrix, number_of_recommendations):\n",
    "    index = index_from_title(df, original_title)\n",
    "    similarity_scores = list(enumerate(np.squeeze(np.asarray(cosine_similarity_matrix[index].todense()))))\n",
    "    # similarity_scores = list(enumerate(cosine_similarity_matrix[index]))\n",
    "    similarity_scores_sorted = sorted(similarity_scores, key=lambda x: x[1], reverse=True)\n",
    "    recommendations_indices = [t[0] for t in similarity_scores_sorted[1:(number_of_recommendations +1)]]\n",
    "    return df['ctitle'].iloc[recommendations_indices]"
   ]
  },
  {
   "cell_type": "code",
   "execution_count": 8,
   "metadata": {},
   "outputs": [
    {
     "name": "stderr",
     "output_type": "stream",
     "text": [
      "/tmp/ipykernel_3840/3505564651.py:4: DeprecationWarning: Please use `lil_matrix` from the `scipy.sparse` namespace, the `scipy.sparse.lil` namespace is deprecated.\n",
      "  object = pickle.load(obfile)\n"
     ]
    }
   ],
   "source": [
    "cos_simi_mat_desc = read_object('../artifacts/cosine_similarity_desc.pkl')"
   ]
  },
  {
   "cell_type": "code",
   "execution_count": 9,
   "metadata": {},
   "outputs": [],
   "source": [
    "df_manga_rel = pd.read_csv('../artifacts/manga_clean.csv', index_col='manga_id')"
   ]
  },
  {
   "cell_type": "code",
   "execution_count": 10,
   "metadata": {},
   "outputs": [
    {
     "data": {
      "text/plain": [
       "manga_id\n",
       "4658          Fullmetal Alchemist\n",
       "111271      Fullmetal Alchemist 0\n",
       "21                     Death Note\n",
       "401                      Kiseijuu\n",
       "12                         Bleach\n",
       "23390          Shingeki no Kyojin\n",
       "149                        Blame!\n",
       "3866                 Kuroshitsuji\n",
       "698       Neon Genesis Evangelion\n",
       "39883          Ansatsu Kyoushitsu\n",
       "Name: ctitle, dtype: object"
      ]
     },
     "execution_count": 10,
     "metadata": {},
     "output_type": "execute_result"
    }
   ],
   "source": [
    "recommendations('Berserk', df_manga_rel, cos_simi_mat_desc, 10)"
   ]
  },
  {
   "cell_type": "code",
   "execution_count": null,
   "metadata": {},
   "outputs": [],
   "source": []
  }
 ],
 "metadata": {
  "kernelspec": {
   "display_name": "Python 3",
   "language": "python",
   "name": "python3"
  },
  "language_info": {
   "codemirror_mode": {
    "name": "ipython",
    "version": 3
   },
   "file_extension": ".py",
   "mimetype": "text/x-python",
   "name": "python",
   "nbconvert_exporter": "python",
   "pygments_lexer": "ipython3",
   "version": "3.8.6"
  },
  "orig_nbformat": 4
 },
 "nbformat": 4,
 "nbformat_minor": 2
}
