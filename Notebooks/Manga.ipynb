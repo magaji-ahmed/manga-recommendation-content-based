{
 "cells": [
  {
   "cell_type": "code",
   "execution_count": null,
   "metadata": {},
   "outputs": [
    {
     "name": "stderr",
     "output_type": "stream",
     "text": [
      "c:\\Program Files\\Python38\\lib\\site-packages\\numpy\\_distributor_init.py:30: UserWarning: loaded more than 1 DLL from .libs:\n",
      "c:\\Program Files\\Python38\\lib\\site-packages\\numpy\\.libs\\libopenblas.GK7GX5KEQ4F6UYO3P26ULGBQYHGQO7J4.gfortran-win_amd64.dll\n",
      "c:\\Program Files\\Python38\\lib\\site-packages\\numpy\\.libs\\libopenblas.WCDJNK7YVMPZQ2ME2ZZHJJRJ3JIKNDB7.gfortran-win_amd64.dll\n",
      "  warnings.warn(\"loaded more than 1 DLL from .libs:\"\n"
     ]
    }
   ],
   "source": [
    "import pandas as pd\n",
    "import numpy as np"
   ]
  },
  {
   "cell_type": "code",
   "execution_count": 5,
   "metadata": {},
   "outputs": [
    {
     "data": {
      "text/html": [
       "<div>\n",
       "<style scoped>\n",
       "    .dataframe tbody tr th:only-of-type {\n",
       "        vertical-align: middle;\n",
       "    }\n",
       "\n",
       "    .dataframe tbody tr th {\n",
       "        vertical-align: top;\n",
       "    }\n",
       "\n",
       "    .dataframe thead th {\n",
       "        text-align: right;\n",
       "    }\n",
       "</style>\n",
       "<table border=\"1\" class=\"dataframe\">\n",
       "  <thead>\n",
       "    <tr style=\"text-align: right;\">\n",
       "      <th></th>\n",
       "      <th>manga_id</th>\n",
       "      <th>title</th>\n",
       "      <th>type</th>\n",
       "      <th>score</th>\n",
       "      <th>scored_by</th>\n",
       "      <th>status</th>\n",
       "      <th>volumes</th>\n",
       "      <th>chapters</th>\n",
       "      <th>start_date</th>\n",
       "      <th>end_date</th>\n",
       "      <th>...</th>\n",
       "      <th>authors</th>\n",
       "      <th>serializations</th>\n",
       "      <th>synopsis</th>\n",
       "      <th>background</th>\n",
       "      <th>main_picture</th>\n",
       "      <th>url</th>\n",
       "      <th>title_english</th>\n",
       "      <th>title_japanese</th>\n",
       "      <th>title_synonyms</th>\n",
       "      <th>jikan</th>\n",
       "    </tr>\n",
       "  </thead>\n",
       "  <tbody>\n",
       "    <tr>\n",
       "      <th>0</th>\n",
       "      <td>2</td>\n",
       "      <td>Berserk</td>\n",
       "      <td>manga</td>\n",
       "      <td>9.45</td>\n",
       "      <td>268737</td>\n",
       "      <td>currently_publishing</td>\n",
       "      <td>NaN</td>\n",
       "      <td>NaN</td>\n",
       "      <td>32745.0</td>\n",
       "      <td>NaN</td>\n",
       "      <td>...</td>\n",
       "      <td>[{'id': 1868, 'first_name': 'Kentarou', 'last_...</td>\n",
       "      <td>['Young Animal']</td>\n",
       "      <td>Guts, a former mercenary now known as the \"Bla...</td>\n",
       "      <td>Berserk won the Award for Excellence at the si...</td>\n",
       "      <td>https://cdn.myanimelist.net/images/manga/1/157...</td>\n",
       "      <td>https://myanimelist.net/manga/2/Berserk</td>\n",
       "      <td>Berserk</td>\n",
       "      <td>ベルセルク</td>\n",
       "      <td>['Berserk: The Prototype']</td>\n",
       "      <td>True</td>\n",
       "    </tr>\n",
       "    <tr>\n",
       "      <th>1</th>\n",
       "      <td>13</td>\n",
       "      <td>One Piece</td>\n",
       "      <td>manga</td>\n",
       "      <td>9.20</td>\n",
       "      <td>305917</td>\n",
       "      <td>currently_publishing</td>\n",
       "      <td>NaN</td>\n",
       "      <td>NaN</td>\n",
       "      <td>35633.0</td>\n",
       "      <td>NaN</td>\n",
       "      <td>...</td>\n",
       "      <td>[{'id': 1881, 'first_name': 'Eiichiro', 'last_...</td>\n",
       "      <td>['Shounen Jump (Weekly)']</td>\n",
       "      <td>Gol D. Roger, a man referred to as the \"Pirate...</td>\n",
       "      <td>One Piece is the highest selling manga series ...</td>\n",
       "      <td>https://cdn.myanimelist.net/images/manga/2/253...</td>\n",
       "      <td>https://myanimelist.net/manga/13/One_Piece</td>\n",
       "      <td>One Piece</td>\n",
       "      <td>ONE PIECE</td>\n",
       "      <td>[]</td>\n",
       "      <td>True</td>\n",
       "    </tr>\n",
       "    <tr>\n",
       "      <th>2</th>\n",
       "      <td>25</td>\n",
       "      <td>Fullmetal Alchemist</td>\n",
       "      <td>manga</td>\n",
       "      <td>9.05</td>\n",
       "      <td>143879</td>\n",
       "      <td>finished</td>\n",
       "      <td>27.0</td>\n",
       "      <td>116.0</td>\n",
       "      <td>37084.0</td>\n",
       "      <td>40432.0</td>\n",
       "      <td>...</td>\n",
       "      <td>[{'id': 1874, 'first_name': 'Hiromu', 'last_na...</td>\n",
       "      <td>['Shounen Gangan']</td>\n",
       "      <td>Alchemists are knowledgeable and naturally tal...</td>\n",
       "      <td>Hagane no Renkinjutsushi won the 49th Shogakuk...</td>\n",
       "      <td>https://cdn.myanimelist.net/images/manga/3/243...</td>\n",
       "      <td>https://myanimelist.net/manga/25/Fullmetal_Alc...</td>\n",
       "      <td>Fullmetal Alchemist</td>\n",
       "      <td>鋼の錬金術師</td>\n",
       "      <td>['Full Metal Alchemist', 'Hagane no Renkinjuts...</td>\n",
       "      <td>True</td>\n",
       "    </tr>\n",
       "    <tr>\n",
       "      <th>3</th>\n",
       "      <td>1706</td>\n",
       "      <td>JoJo no Kimyou na Bouken Part 7: Steel Ball Run</td>\n",
       "      <td>manga</td>\n",
       "      <td>9.27</td>\n",
       "      <td>125482</td>\n",
       "      <td>finished</td>\n",
       "      <td>24.0</td>\n",
       "      <td>96.0</td>\n",
       "      <td>38005.0</td>\n",
       "      <td>40652.0</td>\n",
       "      <td>...</td>\n",
       "      <td>[{'id': 2619, 'first_name': 'Hirohiko', 'last_...</td>\n",
       "      <td>['Ultra Jump']</td>\n",
       "      <td>In the American Old West, the world's greatest...</td>\n",
       "      <td>JoJo no Kimyou na Bouken Part 7: Steel Ball Ru...</td>\n",
       "      <td>https://cdn.myanimelist.net/images/manga/3/179...</td>\n",
       "      <td>https://myanimelist.net/manga/1706/JoJo_no_Kim...</td>\n",
       "      <td>NaN</td>\n",
       "      <td>ジョジョの奇妙な冒険 Part7 STEEL BALL RUN</td>\n",
       "      <td>[\"JoJo's Bizarre Adventure Part 7: Steel Ball ...</td>\n",
       "      <td>True</td>\n",
       "    </tr>\n",
       "    <tr>\n",
       "      <th>4</th>\n",
       "      <td>4632</td>\n",
       "      <td>Oyasumi Punpun</td>\n",
       "      <td>manga</td>\n",
       "      <td>9.03</td>\n",
       "      <td>141146</td>\n",
       "      <td>finished</td>\n",
       "      <td>13.0</td>\n",
       "      <td>147.0</td>\n",
       "      <td>39156.0</td>\n",
       "      <td>41580.0</td>\n",
       "      <td>...</td>\n",
       "      <td>[{'id': 2836, 'first_name': 'Inio', 'last_name...</td>\n",
       "      <td>['Big Comic Spirits']</td>\n",
       "      <td>Punpun Onodera is a normal 11-year-old boy liv...</td>\n",
       "      <td>Oyasumi Punpun was originally serialized in Yo...</td>\n",
       "      <td>https://cdn.myanimelist.net/images/manga/3/164...</td>\n",
       "      <td>https://myanimelist.net/manga/4632/Oyasumi_Punpun</td>\n",
       "      <td>Goodnight Punpun</td>\n",
       "      <td>おやすみプンプン</td>\n",
       "      <td>[]</td>\n",
       "      <td>True</td>\n",
       "    </tr>\n",
       "  </tbody>\n",
       "</table>\n",
       "<p>5 rows × 31 columns</p>\n",
       "</div>"
      ],
      "text/plain": [
       "   manga_id                                            title   type  score  \\\n",
       "0         2                                          Berserk  manga   9.45   \n",
       "1        13                                        One Piece  manga   9.20   \n",
       "2        25                              Fullmetal Alchemist  manga   9.05   \n",
       "3      1706  JoJo no Kimyou na Bouken Part 7: Steel Ball Run  manga   9.27   \n",
       "4      4632                                   Oyasumi Punpun  manga   9.03   \n",
       "\n",
       "   scored_by                status  volumes  chapters  start_date  end_date  \\\n",
       "0     268737  currently_publishing      NaN       NaN     32745.0       NaN   \n",
       "1     305917  currently_publishing      NaN       NaN     35633.0       NaN   \n",
       "2     143879              finished     27.0     116.0     37084.0   40432.0   \n",
       "3     125482              finished     24.0      96.0     38005.0   40652.0   \n",
       "4     141146              finished     13.0     147.0     39156.0   41580.0   \n",
       "\n",
       "   ...                                            authors  \\\n",
       "0  ...  [{'id': 1868, 'first_name': 'Kentarou', 'last_...   \n",
       "1  ...  [{'id': 1881, 'first_name': 'Eiichiro', 'last_...   \n",
       "2  ...  [{'id': 1874, 'first_name': 'Hiromu', 'last_na...   \n",
       "3  ...  [{'id': 2619, 'first_name': 'Hirohiko', 'last_...   \n",
       "4  ...  [{'id': 2836, 'first_name': 'Inio', 'last_name...   \n",
       "\n",
       "              serializations  \\\n",
       "0           ['Young Animal']   \n",
       "1  ['Shounen Jump (Weekly)']   \n",
       "2         ['Shounen Gangan']   \n",
       "3             ['Ultra Jump']   \n",
       "4      ['Big Comic Spirits']   \n",
       "\n",
       "                                            synopsis  \\\n",
       "0  Guts, a former mercenary now known as the \"Bla...   \n",
       "1  Gol D. Roger, a man referred to as the \"Pirate...   \n",
       "2  Alchemists are knowledgeable and naturally tal...   \n",
       "3  In the American Old West, the world's greatest...   \n",
       "4  Punpun Onodera is a normal 11-year-old boy liv...   \n",
       "\n",
       "                                          background  \\\n",
       "0  Berserk won the Award for Excellence at the si...   \n",
       "1  One Piece is the highest selling manga series ...   \n",
       "2  Hagane no Renkinjutsushi won the 49th Shogakuk...   \n",
       "3  JoJo no Kimyou na Bouken Part 7: Steel Ball Ru...   \n",
       "4  Oyasumi Punpun was originally serialized in Yo...   \n",
       "\n",
       "                                        main_picture  \\\n",
       "0  https://cdn.myanimelist.net/images/manga/1/157...   \n",
       "1  https://cdn.myanimelist.net/images/manga/2/253...   \n",
       "2  https://cdn.myanimelist.net/images/manga/3/243...   \n",
       "3  https://cdn.myanimelist.net/images/manga/3/179...   \n",
       "4  https://cdn.myanimelist.net/images/manga/3/164...   \n",
       "\n",
       "                                                 url        title_english  \\\n",
       "0            https://myanimelist.net/manga/2/Berserk              Berserk   \n",
       "1         https://myanimelist.net/manga/13/One_Piece            One Piece   \n",
       "2  https://myanimelist.net/manga/25/Fullmetal_Alc...  Fullmetal Alchemist   \n",
       "3  https://myanimelist.net/manga/1706/JoJo_no_Kim...                  NaN   \n",
       "4  https://myanimelist.net/manga/4632/Oyasumi_Punpun     Goodnight Punpun   \n",
       "\n",
       "                    title_japanese  \\\n",
       "0                            ベルセルク   \n",
       "1                        ONE PIECE   \n",
       "2                           鋼の錬金術師   \n",
       "3  ジョジョの奇妙な冒険 Part7 STEEL BALL RUN   \n",
       "4                         おやすみプンプン   \n",
       "\n",
       "                                      title_synonyms jikan  \n",
       "0                         ['Berserk: The Prototype']  True  \n",
       "1                                                 []  True  \n",
       "2  ['Full Metal Alchemist', 'Hagane no Renkinjuts...  True  \n",
       "3  [\"JoJo's Bizarre Adventure Part 7: Steel Ball ...  True  \n",
       "4                                                 []  True  \n",
       "\n",
       "[5 rows x 31 columns]"
      ]
     },
     "execution_count": 5,
     "metadata": {},
     "output_type": "execute_result"
    }
   ],
   "source": [
    "df = pd.read_excel('C:\\dev\\gen projects\\Manga Recommendation App\\Data\\manga.xlsx')\n",
    "df.head()"
   ]
  },
  {
   "cell_type": "code",
   "execution_count": 3,
   "metadata": {},
   "outputs": [
    {
     "name": "stdout",
     "output_type": "stream",
     "text": [
      "<class 'pandas.core.frame.DataFrame'>\n",
      "RangeIndex: 67273 entries, 0 to 67272\n",
      "Data columns (total 31 columns):\n",
      " #   Column             Non-Null Count  Dtype  \n",
      "---  ------             --------------  -----  \n",
      " 0   manga_id           67273 non-null  int64  \n",
      " 1   title              67271 non-null  object \n",
      " 2   type               67273 non-null  object \n",
      " 3   score              21910 non-null  float64\n",
      " 4   scored_by          67273 non-null  int64  \n",
      " 5   status             67273 non-null  object \n",
      " 6   volumes            50494 non-null  float64\n",
      " 7   chapters           47095 non-null  float64\n",
      " 8   start_date         62949 non-null  float64\n",
      " 9   end_date           51721 non-null  float64\n",
      " 10  members            67273 non-null  int64  \n",
      " 11  favorites          67273 non-null  int64  \n",
      " 12  sfw                67273 non-null  bool   \n",
      " 13  approved           67273 non-null  bool   \n",
      " 14  created_at_before  67273 non-null  object \n",
      " 15  updated_at         58991 non-null  object \n",
      " 16  real_start_date    62949 non-null  object \n",
      " 17  real_end_date      51721 non-null  object \n",
      " 18  genres             67273 non-null  object \n",
      " 19  themes             67273 non-null  object \n",
      " 20  demographics       67273 non-null  object \n",
      " 21  authors            67273 non-null  object \n",
      " 22  serializations     67273 non-null  object \n",
      " 23  synopsis           45619 non-null  object \n",
      " 24  background         9339 non-null   object \n",
      " 25  main_picture       64832 non-null  object \n",
      " 26  url                67273 non-null  object \n",
      " 27  title_english      18426 non-null  object \n",
      " 28  title_japanese     64584 non-null  object \n",
      " 29  title_synonyms     67273 non-null  object \n",
      " 30  jikan              67273 non-null  bool   \n",
      "dtypes: bool(3), float64(5), int64(4), object(19)\n",
      "memory usage: 14.6+ MB\n"
     ]
    }
   ],
   "source": [
    "df.info()"
   ]
  },
  {
   "cell_type": "code",
   "execution_count": 12,
   "metadata": {},
   "outputs": [
    {
     "data": {
      "text/plain": [
       "manga_id                 0\n",
       "title                    2\n",
       "type                     0\n",
       "score                45363\n",
       "scored_by                0\n",
       "status                   0\n",
       "volumes              16779\n",
       "chapters             20178\n",
       "start_date            4324\n",
       "end_date             15552\n",
       "members                  0\n",
       "favorites                0\n",
       "sfw                      0\n",
       "approved                 0\n",
       "created_at_before        0\n",
       "updated_at            8282\n",
       "real_start_date       4324\n",
       "real_end_date        15552\n",
       "genres                   0\n",
       "themes                   0\n",
       "demographics             0\n",
       "authors                  0\n",
       "serializations           0\n",
       "synopsis             21654\n",
       "background           57934\n",
       "main_picture          2441\n",
       "url                      0\n",
       "title_english        48847\n",
       "title_japanese        2689\n",
       "title_synonyms           0\n",
       "jikan                    0\n",
       "dtype: int64"
      ]
     },
     "execution_count": 12,
     "metadata": {},
     "output_type": "execute_result"
    }
   ],
   "source": [
    "df.isna().sum()"
   ]
  },
  {
   "cell_type": "markdown",
   "metadata": {},
   "source": [
    "### cleaning title"
   ]
  },
  {
   "cell_type": "code",
   "execution_count": 16,
   "metadata": {},
   "outputs": [
    {
     "data": {
      "text/html": [
       "<div>\n",
       "<style scoped>\n",
       "    .dataframe tbody tr th:only-of-type {\n",
       "        vertical-align: middle;\n",
       "    }\n",
       "\n",
       "    .dataframe tbody tr th {\n",
       "        vertical-align: top;\n",
       "    }\n",
       "\n",
       "    .dataframe thead th {\n",
       "        text-align: right;\n",
       "    }\n",
       "</style>\n",
       "<table border=\"1\" class=\"dataframe\">\n",
       "  <thead>\n",
       "    <tr style=\"text-align: right;\">\n",
       "      <th></th>\n",
       "      <th>title</th>\n",
       "      <th>title_synonyms</th>\n",
       "    </tr>\n",
       "  </thead>\n",
       "  <tbody>\n",
       "    <tr>\n",
       "      <th>0</th>\n",
       "      <td>Berserk</td>\n",
       "      <td>['Berserk: The Prototype']</td>\n",
       "    </tr>\n",
       "    <tr>\n",
       "      <th>1</th>\n",
       "      <td>One Piece</td>\n",
       "      <td>[]</td>\n",
       "    </tr>\n",
       "    <tr>\n",
       "      <th>2</th>\n",
       "      <td>Fullmetal Alchemist</td>\n",
       "      <td>['Full Metal Alchemist', 'Hagane no Renkinjuts...</td>\n",
       "    </tr>\n",
       "    <tr>\n",
       "      <th>3</th>\n",
       "      <td>JoJo no Kimyou na Bouken Part 7: Steel Ball Run</td>\n",
       "      <td>[\"JoJo's Bizarre Adventure Part 7: Steel Ball ...</td>\n",
       "    </tr>\n",
       "    <tr>\n",
       "      <th>4</th>\n",
       "      <td>Oyasumi Punpun</td>\n",
       "      <td>[]</td>\n",
       "    </tr>\n",
       "    <tr>\n",
       "      <th>...</th>\n",
       "      <td>...</td>\n",
       "      <td>...</td>\n",
       "    </tr>\n",
       "    <tr>\n",
       "      <th>67268</th>\n",
       "      <td>Scary Campus College University</td>\n",
       "      <td>[]</td>\n",
       "    </tr>\n",
       "    <tr>\n",
       "      <th>67269</th>\n",
       "      <td>Dorei Tensei: Sono Dorei, Saikyou no Moto Ouji...</td>\n",
       "      <td>['The Prince Reincarnated Into Slavery to Make...</td>\n",
       "    </tr>\n",
       "    <tr>\n",
       "      <th>67270</th>\n",
       "      <td>To Have You Once Again</td>\n",
       "      <td>[]</td>\n",
       "    </tr>\n",
       "    <tr>\n",
       "      <th>67271</th>\n",
       "      <td>兄だったモノ</td>\n",
       "      <td>['Ani datta Mono', 'He Was My Brother']</td>\n",
       "    </tr>\n",
       "    <tr>\n",
       "      <th>67272</th>\n",
       "      <td>Utsukushii Kare</td>\n",
       "      <td>[]</td>\n",
       "    </tr>\n",
       "  </tbody>\n",
       "</table>\n",
       "<p>67273 rows × 2 columns</p>\n",
       "</div>"
      ],
      "text/plain": [
       "                                                   title  \\\n",
       "0                                                Berserk   \n",
       "1                                              One Piece   \n",
       "2                                    Fullmetal Alchemist   \n",
       "3        JoJo no Kimyou na Bouken Part 7: Steel Ball Run   \n",
       "4                                         Oyasumi Punpun   \n",
       "...                                                  ...   \n",
       "67268                    Scary Campus College University   \n",
       "67269  Dorei Tensei: Sono Dorei, Saikyou no Moto Ouji...   \n",
       "67270                             To Have You Once Again   \n",
       "67271                                             兄だったモノ   \n",
       "67272                                    Utsukushii Kare   \n",
       "\n",
       "                                          title_synonyms  \n",
       "0                             ['Berserk: The Prototype']  \n",
       "1                                                     []  \n",
       "2      ['Full Metal Alchemist', 'Hagane no Renkinjuts...  \n",
       "3      [\"JoJo's Bizarre Adventure Part 7: Steel Ball ...  \n",
       "4                                                     []  \n",
       "...                                                  ...  \n",
       "67268                                                 []  \n",
       "67269  ['The Prince Reincarnated Into Slavery to Make...  \n",
       "67270                                                 []  \n",
       "67271            ['Ani datta Mono', 'He Was My Brother']  \n",
       "67272                                                 []  \n",
       "\n",
       "[67273 rows x 2 columns]"
      ]
     },
     "execution_count": 16,
     "metadata": {},
     "output_type": "execute_result"
    }
   ],
   "source": [
    "df[['title','title_synonyms']]"
   ]
  },
  {
   "cell_type": "code",
   "execution_count": 22,
   "metadata": {},
   "outputs": [
    {
     "data": {
      "text/html": [
       "<div>\n",
       "<style scoped>\n",
       "    .dataframe tbody tr th:only-of-type {\n",
       "        vertical-align: middle;\n",
       "    }\n",
       "\n",
       "    .dataframe tbody tr th {\n",
       "        vertical-align: top;\n",
       "    }\n",
       "\n",
       "    .dataframe thead th {\n",
       "        text-align: right;\n",
       "    }\n",
       "</style>\n",
       "<table border=\"1\" class=\"dataframe\">\n",
       "  <thead>\n",
       "    <tr style=\"text-align: right;\">\n",
       "      <th></th>\n",
       "      <th>title</th>\n",
       "      <th>title_synonyms</th>\n",
       "    </tr>\n",
       "  </thead>\n",
       "  <tbody>\n",
       "    <tr>\n",
       "      <th>1</th>\n",
       "      <td>One Piece</td>\n",
       "      <td>[]</td>\n",
       "    </tr>\n",
       "    <tr>\n",
       "      <th>4</th>\n",
       "      <td>Oyasumi Punpun</td>\n",
       "      <td>[]</td>\n",
       "    </tr>\n",
       "    <tr>\n",
       "      <th>5</th>\n",
       "      <td>Vagabond</td>\n",
       "      <td>[]</td>\n",
       "    </tr>\n",
       "    <tr>\n",
       "      <th>6</th>\n",
       "      <td>Vinland Saga</td>\n",
       "      <td>[]</td>\n",
       "    </tr>\n",
       "    <tr>\n",
       "      <th>9</th>\n",
       "      <td>Chainsaw Man</td>\n",
       "      <td>[]</td>\n",
       "    </tr>\n",
       "    <tr>\n",
       "      <th>...</th>\n",
       "      <td>...</td>\n",
       "      <td>...</td>\n",
       "    </tr>\n",
       "    <tr>\n",
       "      <th>67266</th>\n",
       "      <td>Little ☆ Enchanter</td>\n",
       "      <td>[]</td>\n",
       "    </tr>\n",
       "    <tr>\n",
       "      <th>67267</th>\n",
       "      <td>雨と一緒に</td>\n",
       "      <td>[]</td>\n",
       "    </tr>\n",
       "    <tr>\n",
       "      <th>67268</th>\n",
       "      <td>Scary Campus College University</td>\n",
       "      <td>[]</td>\n",
       "    </tr>\n",
       "    <tr>\n",
       "      <th>67270</th>\n",
       "      <td>To Have You Once Again</td>\n",
       "      <td>[]</td>\n",
       "    </tr>\n",
       "    <tr>\n",
       "      <th>67272</th>\n",
       "      <td>Utsukushii Kare</td>\n",
       "      <td>[]</td>\n",
       "    </tr>\n",
       "  </tbody>\n",
       "</table>\n",
       "<p>34535 rows × 2 columns</p>\n",
       "</div>"
      ],
      "text/plain": [
       "                                 title title_synonyms\n",
       "1                            One Piece             []\n",
       "4                       Oyasumi Punpun             []\n",
       "5                             Vagabond             []\n",
       "6                         Vinland Saga             []\n",
       "9                         Chainsaw Man             []\n",
       "...                                ...            ...\n",
       "67266               Little ☆ Enchanter             []\n",
       "67267                            雨と一緒に             []\n",
       "67268  Scary Campus College University             []\n",
       "67270           To Have You Once Again             []\n",
       "67272                  Utsukushii Kare             []\n",
       "\n",
       "[34535 rows x 2 columns]"
      ]
     },
     "execution_count": 22,
     "metadata": {},
     "output_type": "execute_result"
    }
   ],
   "source": [
    "df[['title','title_synonyms']][df.title_synonyms == '[]']"
   ]
  },
  {
   "cell_type": "code",
   "execution_count": 34,
   "metadata": {},
   "outputs": [],
   "source": [
    "import ast"
   ]
  },
  {
   "cell_type": "code",
   "execution_count": 36,
   "metadata": {},
   "outputs": [
    {
     "data": {
      "text/plain": [
       "'Parallel +Anima'"
      ]
     },
     "execution_count": 36,
     "metadata": {},
     "output_type": "execute_result"
    }
   ],
   "source": [
    "ast.literal_eval(df[['title_synonyms']][df.title.isnull()].values[0][0])[1]"
   ]
  },
  {
   "cell_type": "code",
   "execution_count": 41,
   "metadata": {},
   "outputs": [
    {
     "data": {
      "text/plain": [
       "798      Plus Anima\n",
       "38371      Plus One\n",
       "Name: title_synonyms, dtype: object"
      ]
     },
     "execution_count": 41,
     "metadata": {},
     "output_type": "execute_result"
    }
   ],
   "source": [
    "df.title_synonyms[df.title.isna()].apply(lambda x: ast.literal_eval(x)[0])"
   ]
  },
  {
   "cell_type": "code",
   "execution_count": 6,
   "metadata": {},
   "outputs": [],
   "source": [
    "df['ctitle'] = df.title"
   ]
  },
  {
   "cell_type": "code",
   "execution_count": 7,
   "metadata": {},
   "outputs": [
    {
     "ename": "NameError",
     "evalue": "name 'ast' is not defined",
     "output_type": "error",
     "traceback": [
      "\u001b[1;31m---------------------------------------------------------------------------\u001b[0m",
      "\u001b[1;31mNameError\u001b[0m                                 Traceback (most recent call last)",
      "\u001b[1;32m<ipython-input-7-c39110806ab0>\u001b[0m in \u001b[0;36m<module>\u001b[1;34m\u001b[0m\n\u001b[1;32m----> 1\u001b[1;33m \u001b[0mdf\u001b[0m\u001b[1;33m.\u001b[0m\u001b[0mctitle\u001b[0m\u001b[1;33m[\u001b[0m\u001b[0mdf\u001b[0m\u001b[1;33m.\u001b[0m\u001b[0mtitle\u001b[0m\u001b[1;33m.\u001b[0m\u001b[0misna\u001b[0m\u001b[1;33m(\u001b[0m\u001b[1;33m)\u001b[0m\u001b[1;33m]\u001b[0m \u001b[1;33m=\u001b[0m \u001b[0mdf\u001b[0m\u001b[1;33m.\u001b[0m\u001b[0mtitle_synonyms\u001b[0m\u001b[1;33m[\u001b[0m\u001b[0mdf\u001b[0m\u001b[1;33m.\u001b[0m\u001b[0mtitle\u001b[0m\u001b[1;33m.\u001b[0m\u001b[0misna\u001b[0m\u001b[1;33m(\u001b[0m\u001b[1;33m)\u001b[0m\u001b[1;33m]\u001b[0m\u001b[1;33m.\u001b[0m\u001b[0mapply\u001b[0m\u001b[1;33m(\u001b[0m\u001b[1;32mlambda\u001b[0m \u001b[0mx\u001b[0m\u001b[1;33m:\u001b[0m \u001b[0mast\u001b[0m\u001b[1;33m.\u001b[0m\u001b[0mliteral_eval\u001b[0m\u001b[1;33m(\u001b[0m\u001b[0mx\u001b[0m\u001b[1;33m)\u001b[0m\u001b[1;33m[\u001b[0m\u001b[1;36m0\u001b[0m\u001b[1;33m]\u001b[0m\u001b[1;33m)\u001b[0m\u001b[1;33m\u001b[0m\u001b[1;33m\u001b[0m\u001b[0m\n\u001b[0m",
      "\u001b[1;32m~\\AppData\\Roaming\\Python\\Python38\\site-packages\\pandas\\core\\series.py\u001b[0m in \u001b[0;36mapply\u001b[1;34m(self, func, convert_dtype, args, **kwds)\u001b[0m\n\u001b[0;32m   4210\u001b[0m             \u001b[1;32melse\u001b[0m\u001b[1;33m:\u001b[0m\u001b[1;33m\u001b[0m\u001b[1;33m\u001b[0m\u001b[0m\n\u001b[0;32m   4211\u001b[0m                 \u001b[0mvalues\u001b[0m \u001b[1;33m=\u001b[0m \u001b[0mself\u001b[0m\u001b[1;33m.\u001b[0m\u001b[0mastype\u001b[0m\u001b[1;33m(\u001b[0m\u001b[0mobject\u001b[0m\u001b[1;33m)\u001b[0m\u001b[1;33m.\u001b[0m\u001b[0m_values\u001b[0m\u001b[1;33m\u001b[0m\u001b[1;33m\u001b[0m\u001b[0m\n\u001b[1;32m-> 4212\u001b[1;33m                 \u001b[0mmapped\u001b[0m \u001b[1;33m=\u001b[0m \u001b[0mlib\u001b[0m\u001b[1;33m.\u001b[0m\u001b[0mmap_infer\u001b[0m\u001b[1;33m(\u001b[0m\u001b[0mvalues\u001b[0m\u001b[1;33m,\u001b[0m \u001b[0mf\u001b[0m\u001b[1;33m,\u001b[0m \u001b[0mconvert\u001b[0m\u001b[1;33m=\u001b[0m\u001b[0mconvert_dtype\u001b[0m\u001b[1;33m)\u001b[0m\u001b[1;33m\u001b[0m\u001b[1;33m\u001b[0m\u001b[0m\n\u001b[0m\u001b[0;32m   4213\u001b[0m \u001b[1;33m\u001b[0m\u001b[0m\n\u001b[0;32m   4214\u001b[0m         \u001b[1;32mif\u001b[0m \u001b[0mlen\u001b[0m\u001b[1;33m(\u001b[0m\u001b[0mmapped\u001b[0m\u001b[1;33m)\u001b[0m \u001b[1;32mand\u001b[0m \u001b[0misinstance\u001b[0m\u001b[1;33m(\u001b[0m\u001b[0mmapped\u001b[0m\u001b[1;33m[\u001b[0m\u001b[1;36m0\u001b[0m\u001b[1;33m]\u001b[0m\u001b[1;33m,\u001b[0m \u001b[0mSeries\u001b[0m\u001b[1;33m)\u001b[0m\u001b[1;33m:\u001b[0m\u001b[1;33m\u001b[0m\u001b[1;33m\u001b[0m\u001b[0m\n",
      "\u001b[1;32mpandas\\_libs\\lib.pyx\u001b[0m in \u001b[0;36mpandas._libs.lib.map_infer\u001b[1;34m()\u001b[0m\n",
      "\u001b[1;32m<ipython-input-7-c39110806ab0>\u001b[0m in \u001b[0;36m<lambda>\u001b[1;34m(x)\u001b[0m\n\u001b[1;32m----> 1\u001b[1;33m \u001b[0mdf\u001b[0m\u001b[1;33m.\u001b[0m\u001b[0mctitle\u001b[0m\u001b[1;33m[\u001b[0m\u001b[0mdf\u001b[0m\u001b[1;33m.\u001b[0m\u001b[0mtitle\u001b[0m\u001b[1;33m.\u001b[0m\u001b[0misna\u001b[0m\u001b[1;33m(\u001b[0m\u001b[1;33m)\u001b[0m\u001b[1;33m]\u001b[0m \u001b[1;33m=\u001b[0m \u001b[0mdf\u001b[0m\u001b[1;33m.\u001b[0m\u001b[0mtitle_synonyms\u001b[0m\u001b[1;33m[\u001b[0m\u001b[0mdf\u001b[0m\u001b[1;33m.\u001b[0m\u001b[0mtitle\u001b[0m\u001b[1;33m.\u001b[0m\u001b[0misna\u001b[0m\u001b[1;33m(\u001b[0m\u001b[1;33m)\u001b[0m\u001b[1;33m]\u001b[0m\u001b[1;33m.\u001b[0m\u001b[0mapply\u001b[0m\u001b[1;33m(\u001b[0m\u001b[1;32mlambda\u001b[0m \u001b[0mx\u001b[0m\u001b[1;33m:\u001b[0m \u001b[0mast\u001b[0m\u001b[1;33m.\u001b[0m\u001b[0mliteral_eval\u001b[0m\u001b[1;33m(\u001b[0m\u001b[0mx\u001b[0m\u001b[1;33m)\u001b[0m\u001b[1;33m[\u001b[0m\u001b[1;36m0\u001b[0m\u001b[1;33m]\u001b[0m\u001b[1;33m)\u001b[0m\u001b[1;33m\u001b[0m\u001b[1;33m\u001b[0m\u001b[0m\n\u001b[0m",
      "\u001b[1;31mNameError\u001b[0m: name 'ast' is not defined"
     ]
    }
   ],
   "source": [
    "df.ctitle[df.title.isna()] = df.title_synonyms[df.title.isna()].apply(lambda x: ast.literal_eval(x)[0])"
   ]
  },
  {
   "cell_type": "code",
   "execution_count": 46,
   "metadata": {},
   "outputs": [
    {
     "data": {
      "text/plain": [
       "0"
      ]
     },
     "execution_count": 46,
     "metadata": {},
     "output_type": "execute_result"
    }
   ],
   "source": [
    "df.ctitle.isna().sum()"
   ]
  },
  {
   "cell_type": "code",
   "execution_count": 8,
   "metadata": {},
   "outputs": [],
   "source": [
    "from langdetect import detect\n",
    "def detect_text(text):\n",
    "    try:\n",
    "        lang = detect(text)\n",
    "    except:\n",
    "        lang = 'unknown'\n",
    "    return lang\n",
    "\n",
    "# df['title_lang'] = df.title.apply(detect_text)"
   ]
  },
  {
   "cell_type": "code",
   "execution_count": 18,
   "metadata": {},
   "outputs": [
    {
     "data": {
      "text/plain": [
       "True"
      ]
     },
     "execution_count": 18,
     "metadata": {},
     "output_type": "execute_result"
    }
   ],
   "source": [
    "'adkd'.isascii() "
   ]
  },
  {
   "cell_type": "code",
   "execution_count": 26,
   "metadata": {},
   "outputs": [
    {
     "data": {
      "text/plain": [
       "True"
      ]
     },
     "execution_count": 26,
     "metadata": {},
     "output_type": "execute_result"
    }
   ],
   "source": [
    "df.title[0].isascii()"
   ]
  },
  {
   "cell_type": "code",
   "execution_count": null,
   "metadata": {},
   "outputs": [],
   "source": [
    "def strip_nonalpha"
   ]
  },
  {
   "cell_type": "code",
   "execution_count": 59,
   "metadata": {},
   "outputs": [
    {
     "data": {
      "text/plain": [
       "'Ranma '"
      ]
     },
     "execution_count": 59,
     "metadata": {},
     "output_type": "execute_result"
    }
   ],
   "source": [
    "''.join(filter(str.isascii, 'Ranma ½'))"
   ]
  },
  {
   "cell_type": "code",
   "execution_count": null,
   "metadata": {},
   "outputs": [],
   "source": [
    "[(df.title.apply(lambda x: str(x).isascii()) == False) & (df.title_synonyms == '[]')]"
   ]
  },
  {
   "cell_type": "code",
   "execution_count": 63,
   "metadata": {},
   "outputs": [
    {
     "data": {
      "text/plain": [
       "0                                                  Berserk\n",
       "1                                                One Piece\n",
       "2                                      Fullmetal Alchemist\n",
       "3          JoJo no Kimyou na Bouken Part 7: Steel Ball Run\n",
       "4                                           Oyasumi Punpun\n",
       "                               ...                        \n",
       "67268                      Scary Campus College University\n",
       "67269    Dorei Tensei: Sono Dorei, Saikyou no Moto Ouji...\n",
       "67270                               To Have You Once Again\n",
       "67271                                               兄だったモノ\n",
       "67272                                      Utsukushii Kare\n",
       "Name: title, Length: 67273, dtype: object"
      ]
     },
     "execution_count": 63,
     "metadata": {},
     "output_type": "execute_result"
    }
   ],
   "source": [
    "df.title"
   ]
  },
  {
   "cell_type": "code",
   "execution_count": 79,
   "metadata": {},
   "outputs": [
    {
     "data": {
      "text/plain": [
       "301                                              Ranma \n",
       "348                              MeruPuri: MrchenPrince\n",
       "402      Mahou Shoujo MadokaMagica: The Different Story\n",
       "611                                          LoversDoll\n",
       "788                                           LuckyStar\n",
       "                              ...                      \n",
       "67077                         Chou Yousei Densetsu KIRA\n",
       "67162            Hello, Nice to Meet You. Lets Divorce.\n",
       "67226                                                  \n",
       "67266                                 Little  Enchanter\n",
       "67267                                                  \n",
       "Name: title, Length: 983, dtype: object"
      ]
     },
     "execution_count": 79,
     "metadata": {},
     "output_type": "execute_result"
    }
   ],
   "source": [
    "df.title[(df.title.apply(lambda x: str(x).isascii()) == False) & (df.title_synonyms == '[]')].apply(lambda x: ''.join(filter(str.isascii, str(x))))"
   ]
  },
  {
   "cell_type": "code",
   "execution_count": 49,
   "metadata": {},
   "outputs": [
    {
     "data": {
      "text/plain": [
       "Series([], Name: title, dtype: object)"
      ]
     },
     "execution_count": 49,
     "metadata": {},
     "output_type": "execute_result"
    }
   ],
   "source": [
    "df.title[df.title_lang == 'en']"
   ]
  },
  {
   "cell_type": "markdown",
   "metadata": {},
   "source": [
    "### looking at \"Type\" feature"
   ]
  },
  {
   "cell_type": "code",
   "execution_count": 6,
   "metadata": {},
   "outputs": [
    {
     "data": {
      "text/plain": [
       "array(['manga', 'manhwa', 'light_novel', 'one_shot', 'manhua', 'novel',\n",
       "       'doujinshi'], dtype=object)"
      ]
     },
     "execution_count": 6,
     "metadata": {},
     "output_type": "execute_result"
    }
   ],
   "source": [
    "df.type.unique()"
   ]
  },
  {
   "cell_type": "code",
   "execution_count": 10,
   "metadata": {},
   "outputs": [
    {
     "data": {
      "text/plain": [
       "manga          45255\n",
       "light_novel    11172\n",
       "one_shot        5511\n",
       "manhwa          2353\n",
       "doujinshi       2336\n",
       "manhua           467\n",
       "novel            179\n",
       "Name: type, dtype: int64"
      ]
     },
     "execution_count": 10,
     "metadata": {},
     "output_type": "execute_result"
    }
   ],
   "source": [
    "df.type.value_counts()"
   ]
  },
  {
   "cell_type": "code",
   "execution_count": 9,
   "metadata": {},
   "outputs": [
    {
     "data": {
      "text/plain": [
       "0        8473\n",
       "1        2635\n",
       "4        2552\n",
       "3        2531\n",
       "2        2518\n",
       "         ... \n",
       "4134        1\n",
       "2085        1\n",
       "47093       1\n",
       "87945       1\n",
       "3102        1\n",
       "Name: scored_by, Length: 4406, dtype: int64"
      ]
     },
     "execution_count": 9,
     "metadata": {},
     "output_type": "execute_result"
    }
   ],
   "source": [
    "df.scored_by.value_counts()"
   ]
  },
  {
   "cell_type": "markdown",
   "metadata": {},
   "source": [
    "### creating a text doc for the recommendation\n",
    "\n",
    "This will combine the synopsis and background from the all the manga, manhwa, manhua and doujinshi type content"
   ]
  },
  {
   "cell_type": "markdown",
   "metadata": {},
   "source": [
    "##### Extract all the relevant types rows\n"
   ]
  },
  {
   "cell_type": "code",
   "execution_count": 86,
   "metadata": {},
   "outputs": [
    {
     "data": {
      "text/plain": [
       "<AxesSubplot:>"
      ]
     },
     "execution_count": 86,
     "metadata": {},
     "output_type": "execute_result"
    },
    {
     "data": {
      "image/png": "[encoded data removed]",
      "text/plain": [
       "<Figure size 432x288 with 1 Axes>"
      ]
     },
     "metadata": {
      "needs_background": "light"
     },
     "output_type": "display_data"
    }
   ],
   "source": [
    "df.type.value_counts().plot.bar()"
   ]
  },
  {
   "cell_type": "code",
   "execution_count": 94,
   "metadata": {},
   "outputs": [],
   "source": [
    "relevant_types = ['manga','one_shot','manhwa','doujinshi','manhua']\n",
    "df_manga = df[df.type.apply(lambda x: relevant_types.__contains__(x))]"
   ]
  },
  {
   "cell_type": "code",
   "execution_count": 95,
   "metadata": {},
   "outputs": [
    {
     "name": "stdout",
     "output_type": "stream",
     "text": [
      "<class 'pandas.core.frame.DataFrame'>\n",
      "Int64Index: 55922 entries, 0 to 67272\n",
      "Data columns (total 32 columns):\n",
      " #   Column             Non-Null Count  Dtype  \n",
      "---  ------             --------------  -----  \n",
      " 0   manga_id           55922 non-null  int64  \n",
      " 1   title              55920 non-null  object \n",
      " 2   type               55922 non-null  object \n",
      " 3   score              21027 non-null  float64\n",
      " 4   scored_by          55922 non-null  int64  \n",
      " 5   status             55922 non-null  object \n",
      " 6   volumes            41320 non-null  float64\n",
      " 7   chapters           40829 non-null  float64\n",
      " 8   start_date         51736 non-null  float64\n",
      " 9   end_date           42678 non-null  float64\n",
      " 10  members            55922 non-null  int64  \n",
      " 11  favorites          55922 non-null  int64  \n",
      " 12  sfw                55922 non-null  bool   \n",
      " 13  approved           55922 non-null  bool   \n",
      " 14  created_at_before  55922 non-null  object \n",
      " 15  updated_at         48698 non-null  object \n",
      " 16  real_start_date    51736 non-null  object \n",
      " 17  real_end_date      42678 non-null  object \n",
      " 18  genres             55922 non-null  object \n",
      " 19  themes             55922 non-null  object \n",
      " 20  demographics       55922 non-null  object \n",
      " 21  authors            55922 non-null  object \n",
      " 22  serializations     55922 non-null  object \n",
      " 23  synopsis           42245 non-null  object \n",
      " 24  background         8493 non-null   object \n",
      " 25  main_picture       53695 non-null  object \n",
      " 26  url                55922 non-null  object \n",
      " 27  title_english      16404 non-null  object \n",
      " 28  title_japanese     53421 non-null  object \n",
      " 29  title_synonyms     55922 non-null  object \n",
      " 30  jikan              55922 non-null  bool   \n",
      " 31  ctitle             55920 non-null  object \n",
      "dtypes: bool(3), float64(5), int64(4), object(20)\n",
      "memory usage: 13.0+ MB\n"
     ]
    }
   ],
   "source": [
    "df_manga.info()"
   ]
  },
  {
   "cell_type": "code",
   "execution_count": 137,
   "metadata": {},
   "outputs": [
    {
     "name": "stdout",
     "output_type": "stream",
     "text": [
      "<class 'pandas.core.frame.DataFrame'>\n",
      "Int64Index: 55922 entries, 0 to 67272\n",
      "Data columns (total 5 columns):\n",
      " #   Column      Non-Null Count  Dtype \n",
      "---  ------      --------------  ----- \n",
      " 0   manga_id    55922 non-null  int64 \n",
      " 1   synopsis    42245 non-null  object\n",
      " 2   background  8493 non-null   object\n",
      " 3   genres      55922 non-null  object\n",
      " 4   themes      55922 non-null  object\n",
      "dtypes: int64(1), object(4)\n",
      "memory usage: 2.6+ MB\n"
     ]
    }
   ],
   "source": [
    "df_manga_rel = df_manga[['manga_id','synopsis','background','genres','themes']]\n",
    "df_manga_rel.info()"
   ]
  },
  {
   "cell_type": "markdown",
   "metadata": {},
   "source": [
    "##### combining synopsis with background"
   ]
  },
  {
   "cell_type": "code",
   "execution_count": 138,
   "metadata": {},
   "outputs": [
    {
     "data": {
      "text/html": [
       "<div>\n",
       "<style scoped>\n",
       "    .dataframe tbody tr th:only-of-type {\n",
       "        vertical-align: middle;\n",
       "    }\n",
       "\n",
       "    .dataframe tbody tr th {\n",
       "        vertical-align: top;\n",
       "    }\n",
       "\n",
       "    .dataframe thead th {\n",
       "        text-align: right;\n",
       "    }\n",
       "</style>\n",
       "<table border=\"1\" class=\"dataframe\">\n",
       "  <thead>\n",
       "    <tr style=\"text-align: right;\">\n",
       "      <th></th>\n",
       "      <th>manga_id</th>\n",
       "      <th>synopsis</th>\n",
       "      <th>background</th>\n",
       "      <th>genres</th>\n",
       "      <th>themes</th>\n",
       "    </tr>\n",
       "  </thead>\n",
       "  <tbody>\n",
       "    <tr>\n",
       "      <th>1342</th>\n",
       "      <td>10376</td>\n",
       "      <td>NaN</td>\n",
       "      <td>NaN</td>\n",
       "      <td>['Action', 'Adventure', 'Fantasy', 'Supernatur...</td>\n",
       "      <td>[]</td>\n",
       "    </tr>\n",
       "    <tr>\n",
       "      <th>1480</th>\n",
       "      <td>88110</td>\n",
       "      <td>NaN</td>\n",
       "      <td>NaN</td>\n",
       "      <td>['Action', 'Fantasy', 'Supernatural']</td>\n",
       "      <td>[]</td>\n",
       "    </tr>\n",
       "    <tr>\n",
       "      <th>1504</th>\n",
       "      <td>124483</td>\n",
       "      <td>NaN</td>\n",
       "      <td>NaN</td>\n",
       "      <td>['Hentai']</td>\n",
       "      <td>['Harem']</td>\n",
       "    </tr>\n",
       "    <tr>\n",
       "      <th>1536</th>\n",
       "      <td>57711</td>\n",
       "      <td>NaN</td>\n",
       "      <td>NaN</td>\n",
       "      <td>['Drama', 'Romance']</td>\n",
       "      <td>['School']</td>\n",
       "    </tr>\n",
       "    <tr>\n",
       "      <th>1712</th>\n",
       "      <td>103803</td>\n",
       "      <td>NaN</td>\n",
       "      <td>NaN</td>\n",
       "      <td>['Sci-Fi']</td>\n",
       "      <td>['Psychological']</td>\n",
       "    </tr>\n",
       "    <tr>\n",
       "      <th>...</th>\n",
       "      <td>...</td>\n",
       "      <td>...</td>\n",
       "      <td>...</td>\n",
       "      <td>...</td>\n",
       "      <td>...</td>\n",
       "    </tr>\n",
       "    <tr>\n",
       "      <th>67259</th>\n",
       "      <td>149649</td>\n",
       "      <td>NaN</td>\n",
       "      <td>NaN</td>\n",
       "      <td>['Romance', 'Slice of Life', 'Sports']</td>\n",
       "      <td>['Romantic Subtext']</td>\n",
       "    </tr>\n",
       "    <tr>\n",
       "      <th>67261</th>\n",
       "      <td>149651</td>\n",
       "      <td>NaN</td>\n",
       "      <td>NaN</td>\n",
       "      <td>['Hentai']</td>\n",
       "      <td>[]</td>\n",
       "    </tr>\n",
       "    <tr>\n",
       "      <th>67266</th>\n",
       "      <td>149659</td>\n",
       "      <td>NaN</td>\n",
       "      <td>NaN</td>\n",
       "      <td>['Hentai']</td>\n",
       "      <td>[]</td>\n",
       "    </tr>\n",
       "    <tr>\n",
       "      <th>67267</th>\n",
       "      <td>149660</td>\n",
       "      <td>NaN</td>\n",
       "      <td>NaN</td>\n",
       "      <td>['Romance', 'Supernatural']</td>\n",
       "      <td>[]</td>\n",
       "    </tr>\n",
       "    <tr>\n",
       "      <th>67268</th>\n",
       "      <td>149662</td>\n",
       "      <td>NaN</td>\n",
       "      <td>NaN</td>\n",
       "      <td>['Horror', 'Supernatural', 'Suspense']</td>\n",
       "      <td>[]</td>\n",
       "    </tr>\n",
       "  </tbody>\n",
       "</table>\n",
       "<p>13672 rows × 5 columns</p>\n",
       "</div>"
      ],
      "text/plain": [
       "       manga_id synopsis background  \\\n",
       "1342      10376      NaN        NaN   \n",
       "1480      88110      NaN        NaN   \n",
       "1504     124483      NaN        NaN   \n",
       "1536      57711      NaN        NaN   \n",
       "1712     103803      NaN        NaN   \n",
       "...         ...      ...        ...   \n",
       "67259    149649      NaN        NaN   \n",
       "67261    149651      NaN        NaN   \n",
       "67266    149659      NaN        NaN   \n",
       "67267    149660      NaN        NaN   \n",
       "67268    149662      NaN        NaN   \n",
       "\n",
       "                                                  genres                themes  \n",
       "1342   ['Action', 'Adventure', 'Fantasy', 'Supernatur...                    []  \n",
       "1480               ['Action', 'Fantasy', 'Supernatural']                    []  \n",
       "1504                                          ['Hentai']             ['Harem']  \n",
       "1536                                ['Drama', 'Romance']            ['School']  \n",
       "1712                                          ['Sci-Fi']     ['Psychological']  \n",
       "...                                                  ...                   ...  \n",
       "67259             ['Romance', 'Slice of Life', 'Sports']  ['Romantic Subtext']  \n",
       "67261                                         ['Hentai']                    []  \n",
       "67266                                         ['Hentai']                    []  \n",
       "67267                        ['Romance', 'Supernatural']                    []  \n",
       "67268             ['Horror', 'Supernatural', 'Suspense']                    []  \n",
       "\n",
       "[13672 rows x 5 columns]"
      ]
     },
     "execution_count": 138,
     "metadata": {},
     "output_type": "execute_result"
    }
   ],
   "source": [
    "df_manga_rel[df_manga_rel.synopsis.isna() & df_manga_rel.background.isna()]"
   ]
  },
  {
   "cell_type": "code",
   "execution_count": 106,
   "metadata": {},
   "outputs": [],
   "source": [
    "import ast"
   ]
  },
  {
   "cell_type": "code",
   "execution_count": 129,
   "metadata": {},
   "outputs": [
    {
     "data": {
      "text/plain": [
       "'htehe'"
      ]
     },
     "execution_count": 129,
     "metadata": {},
     "output_type": "execute_result"
    }
   ],
   "source": [
    "'ht ehe'.replace(' ', '')"
   ]
  },
  {
   "cell_type": "code",
   "execution_count": 136,
   "metadata": {},
   "outputs": [
    {
     "data": {
      "text/plain": [
       "'ahmed havila'"
      ]
     },
     "execution_count": 136,
     "metadata": {},
     "output_type": "execute_result"
    }
   ],
   "source": [
    "def process_genres_themes(x):\n",
    "    return ' '.join('|'.join(ast.literal_eval(x)).replace(' ','').split('|'))\n",
    "\n",
    "process_genres_themes(\"['ahmed','havila']\")"
   ]
  },
  {
   "cell_type": "code",
   "execution_count": 140,
   "metadata": {},
   "outputs": [
    {
     "name": "stderr",
     "output_type": "stream",
     "text": [
      "C:\\Users\\Ahmed\\AppData\\Roaming\\Python\\Python38\\site-packages\\pandas\\core\\generic.py:5168: SettingWithCopyWarning: \n",
      "A value is trying to be set on a copy of a slice from a DataFrame.\n",
      "Try using .loc[row_indexer,col_indexer] = value instead\n",
      "\n",
      "See the caveats in the documentation: https://pandas.pydata.org/pandas-docs/stable/user_guide/indexing.html#returning-a-view-versus-a-copy\n",
      "  self[name] = value\n"
     ]
    }
   ],
   "source": [
    "df_manga_rel.genres = df_manga_rel.genres.apply(process_genres_themes)"
   ]
  },
  {
   "cell_type": "code",
   "execution_count": 134,
   "metadata": {},
   "outputs": [
    {
     "data": {
      "text/plain": [
       "0        Action Adventure AwardWinning Drama Fantasy Ho...\n",
       "1                                 Action Adventure Fantasy\n",
       "2              Action Adventure AwardWinning Drama Fantasy\n",
       "3             Action Adventure Horror Mystery Supernatural\n",
       "4                                        Drama SliceofLife\n",
       "                               ...                        \n",
       "67267                                 Romance Supernatural\n",
       "67268                         Horror Supernatural Suspense\n",
       "67270                             BoysLove Fantasy Romance\n",
       "67271           BoysLove Drama Horror Romance Supernatural\n",
       "67272                                             BoysLove\n",
       "Name: genres, Length: 55922, dtype: object"
      ]
     },
     "execution_count": 134,
     "metadata": {},
     "output_type": "execute_result"
    }
   ],
   "source": [
    "df_manga_rel.genres"
   ]
  },
  {
   "cell_type": "code",
   "execution_count": 142,
   "metadata": {},
   "outputs": [
    {
     "name": "stderr",
     "output_type": "stream",
     "text": [
      "C:\\Users\\Ahmed\\AppData\\Roaming\\Python\\Python38\\site-packages\\pandas\\core\\generic.py:5168: SettingWithCopyWarning: \n",
      "A value is trying to be set on a copy of a slice from a DataFrame.\n",
      "Try using .loc[row_indexer,col_indexer] = value instead\n",
      "\n",
      "See the caveats in the documentation: https://pandas.pydata.org/pandas-docs/stable/user_guide/indexing.html#returning-a-view-versus-a-copy\n",
      "  self[name] = value\n"
     ]
    }
   ],
   "source": [
    "df_manga_rel.themes = df_manga_rel.themes.apply(process_genres_themes)"
   ]
  },
  {
   "cell_type": "code",
   "execution_count": 143,
   "metadata": {},
   "outputs": [
    {
     "data": {
      "text/html": [
       "<div>\n",
       "<style scoped>\n",
       "    .dataframe tbody tr th:only-of-type {\n",
       "        vertical-align: middle;\n",
       "    }\n",
       "\n",
       "    .dataframe tbody tr th {\n",
       "        vertical-align: top;\n",
       "    }\n",
       "\n",
       "    .dataframe thead th {\n",
       "        text-align: right;\n",
       "    }\n",
       "</style>\n",
       "<table border=\"1\" class=\"dataframe\">\n",
       "  <thead>\n",
       "    <tr style=\"text-align: right;\">\n",
       "      <th></th>\n",
       "      <th>manga_id</th>\n",
       "      <th>synopsis</th>\n",
       "      <th>background</th>\n",
       "      <th>genres</th>\n",
       "      <th>themes</th>\n",
       "    </tr>\n",
       "  </thead>\n",
       "  <tbody>\n",
       "    <tr>\n",
       "      <th>0</th>\n",
       "      <td>2</td>\n",
       "      <td>Guts, a former mercenary now known as the \"Bla...</td>\n",
       "      <td>Berserk won the Award for Excellence at the si...</td>\n",
       "      <td>Action Adventure AwardWinning Drama Fantasy Ho...</td>\n",
       "      <td>Gore Military Mythology Psychological</td>\n",
       "    </tr>\n",
       "    <tr>\n",
       "      <th>1</th>\n",
       "      <td>13</td>\n",
       "      <td>Gol D. Roger, a man referred to as the \"Pirate...</td>\n",
       "      <td>One Piece is the highest selling manga series ...</td>\n",
       "      <td>Action Adventure Fantasy</td>\n",
       "      <td></td>\n",
       "    </tr>\n",
       "    <tr>\n",
       "      <th>2</th>\n",
       "      <td>25</td>\n",
       "      <td>Alchemists are knowledgeable and naturally tal...</td>\n",
       "      <td>Hagane no Renkinjutsushi won the 49th Shogakuk...</td>\n",
       "      <td>Action Adventure AwardWinning Drama Fantasy</td>\n",
       "      <td>Military</td>\n",
       "    </tr>\n",
       "    <tr>\n",
       "      <th>3</th>\n",
       "      <td>1706</td>\n",
       "      <td>In the American Old West, the world's greatest...</td>\n",
       "      <td>JoJo no Kimyou na Bouken Part 7: Steel Ball Ru...</td>\n",
       "      <td>Action Adventure Horror Mystery Supernatural</td>\n",
       "      <td>Historical</td>\n",
       "    </tr>\n",
       "    <tr>\n",
       "      <th>4</th>\n",
       "      <td>4632</td>\n",
       "      <td>Punpun Onodera is a normal 11-year-old boy liv...</td>\n",
       "      <td>Oyasumi Punpun was originally serialized in Yo...</td>\n",
       "      <td>Drama SliceofLife</td>\n",
       "      <td>Psychological</td>\n",
       "    </tr>\n",
       "  </tbody>\n",
       "</table>\n",
       "</div>"
      ],
      "text/plain": [
       "   manga_id                                           synopsis  \\\n",
       "0         2  Guts, a former mercenary now known as the \"Bla...   \n",
       "1        13  Gol D. Roger, a man referred to as the \"Pirate...   \n",
       "2        25  Alchemists are knowledgeable and naturally tal...   \n",
       "3      1706  In the American Old West, the world's greatest...   \n",
       "4      4632  Punpun Onodera is a normal 11-year-old boy liv...   \n",
       "\n",
       "                                          background  \\\n",
       "0  Berserk won the Award for Excellence at the si...   \n",
       "1  One Piece is the highest selling manga series ...   \n",
       "2  Hagane no Renkinjutsushi won the 49th Shogakuk...   \n",
       "3  JoJo no Kimyou na Bouken Part 7: Steel Ball Ru...   \n",
       "4  Oyasumi Punpun was originally serialized in Yo...   \n",
       "\n",
       "                                              genres  \\\n",
       "0  Action Adventure AwardWinning Drama Fantasy Ho...   \n",
       "1                           Action Adventure Fantasy   \n",
       "2        Action Adventure AwardWinning Drama Fantasy   \n",
       "3       Action Adventure Horror Mystery Supernatural   \n",
       "4                                  Drama SliceofLife   \n",
       "\n",
       "                                  themes  \n",
       "0  Gore Military Mythology Psychological  \n",
       "1                                         \n",
       "2                               Military  \n",
       "3                             Historical  \n",
       "4                          Psychological  "
      ]
     },
     "execution_count": 143,
     "metadata": {},
     "output_type": "execute_result"
    }
   ],
   "source": [
    "df_manga_rel.head()"
   ]
  },
  {
   "cell_type": "code",
   "execution_count": 148,
   "metadata": {},
   "outputs": [
    {
     "data": {
      "text/html": [
       "<div>\n",
       "<style scoped>\n",
       "    .dataframe tbody tr th:only-of-type {\n",
       "        vertical-align: middle;\n",
       "    }\n",
       "\n",
       "    .dataframe tbody tr th {\n",
       "        vertical-align: top;\n",
       "    }\n",
       "\n",
       "    .dataframe thead th {\n",
       "        text-align: right;\n",
       "    }\n",
       "</style>\n",
       "<table border=\"1\" class=\"dataframe\">\n",
       "  <thead>\n",
       "    <tr style=\"text-align: right;\">\n",
       "      <th></th>\n",
       "      <th>synopsis</th>\n",
       "      <th>background</th>\n",
       "    </tr>\n",
       "  </thead>\n",
       "  <tbody>\n",
       "    <tr>\n",
       "      <th>53</th>\n",
       "      <td>Fourteen-year-old Kakeru Kurosawa is an antiso...</td>\n",
       "      <td>NaN</td>\n",
       "    </tr>\n",
       "    <tr>\n",
       "      <th>83</th>\n",
       "      <td>Through pain and arduous effort, one can reach...</td>\n",
       "      <td>NaN</td>\n",
       "    </tr>\n",
       "    <tr>\n",
       "      <th>85</th>\n",
       "      <td>A tormented soul, Yuu Kamishiro has no place i...</td>\n",
       "      <td>NaN</td>\n",
       "    </tr>\n",
       "    <tr>\n",
       "      <th>137</th>\n",
       "      <td>The funny romantic story of how Qiu Tong and S...</td>\n",
       "      <td>NaN</td>\n",
       "    </tr>\n",
       "    <tr>\n",
       "      <th>151</th>\n",
       "      <td>Whispering the name Seiichirou Kitano is enoug...</td>\n",
       "      <td>NaN</td>\n",
       "    </tr>\n",
       "    <tr>\n",
       "      <th>...</th>\n",
       "      <td>...</td>\n",
       "      <td>...</td>\n",
       "    </tr>\n",
       "    <tr>\n",
       "      <th>67267</th>\n",
       "      <td>NaN</td>\n",
       "      <td>NaN</td>\n",
       "    </tr>\n",
       "    <tr>\n",
       "      <th>67268</th>\n",
       "      <td>NaN</td>\n",
       "      <td>NaN</td>\n",
       "    </tr>\n",
       "    <tr>\n",
       "      <th>67270</th>\n",
       "      <td>Mu Qingyi died in order to save the people of ...</td>\n",
       "      <td>NaN</td>\n",
       "    </tr>\n",
       "    <tr>\n",
       "      <th>67271</th>\n",
       "      <td>This is a story of my brother's lover and me a...</td>\n",
       "      <td>NaN</td>\n",
       "    </tr>\n",
       "    <tr>\n",
       "      <th>67272</th>\n",
       "      <td>High schooler at the bottom of the social ladd...</td>\n",
       "      <td>NaN</td>\n",
       "    </tr>\n",
       "  </tbody>\n",
       "</table>\n",
       "<p>47429 rows × 2 columns</p>\n",
       "</div>"
      ],
      "text/plain": [
       "                                                synopsis background\n",
       "53     Fourteen-year-old Kakeru Kurosawa is an antiso...        NaN\n",
       "83     Through pain and arduous effort, one can reach...        NaN\n",
       "85     A tormented soul, Yuu Kamishiro has no place i...        NaN\n",
       "137    The funny romantic story of how Qiu Tong and S...        NaN\n",
       "151    Whispering the name Seiichirou Kitano is enoug...        NaN\n",
       "...                                                  ...        ...\n",
       "67267                                                NaN        NaN\n",
       "67268                                                NaN        NaN\n",
       "67270  Mu Qingyi died in order to save the people of ...        NaN\n",
       "67271  This is a story of my brother's lover and me a...        NaN\n",
       "67272  High schooler at the bottom of the social ladd...        NaN\n",
       "\n",
       "[47429 rows x 2 columns]"
      ]
     },
     "execution_count": 148,
     "metadata": {},
     "output_type": "execute_result"
    }
   ],
   "source": [
    "df_manga_rel[['synopsis','background']][df_manga_rel.background.isna()]"
   ]
  },
  {
   "cell_type": "code",
   "execution_count": 151,
   "metadata": {},
   "outputs": [],
   "source": [
    "df_manga_rel_nona = df_manga_rel.fillna(' ')"
   ]
  },
  {
   "cell_type": "code",
   "execution_count": 153,
   "metadata": {},
   "outputs": [
    {
     "data": {
      "text/plain": [
       "0        Guts, a former mercenary now known as the \"Bla...\n",
       "1        Gol D. Roger, a man referred to as the \"Pirate...\n",
       "2        Alchemists are knowledgeable and naturally tal...\n",
       "3        In the American Old West, the world's greatest...\n",
       "4        Punpun Onodera is a normal 11-year-old boy liv...\n",
       "                               ...                        \n",
       "67267                                 Romance Supernatural\n",
       "67268                         Horror Supernatural Suspense\n",
       "67270    Mu Qingyi died in order to save the people of ...\n",
       "67271    This is a story of my brother's lover and me a...\n",
       "67272    High schooler at the bottom of the social ladd...\n",
       "Name: description, Length: 55922, dtype: object"
      ]
     },
     "execution_count": 153,
     "metadata": {},
     "output_type": "execute_result"
    }
   ],
   "source": [
    "df_manga_rel_nona['description'] = df_manga_rel_nona.synopsis + df_manga_rel_nona.background + df_manga_rel_nona.genres + df_manga_rel_nona.themes\n",
    "df_manga_rel_nona.description"
   ]
  },
  {
   "cell_type": "code",
   "execution_count": 33,
   "metadata": {},
   "outputs": [
    {
     "data": {
      "text/plain": [
       "['Seinen']"
      ]
     },
     "execution_count": 33,
     "metadata": {},
     "output_type": "execute_result"
    }
   ],
   "source": [
    "import ast\n",
    "ast.literal_eval(df.demographics.iloc[0])\n",
    "from collections import Counter\n",
    "\n",
    "coun = Counter()\n",
    "for x in df.demographics:\n",
    "    x = ast.literal_eval(x)\n",
    "    coun.update(x)\n",
    "\n",
    "print(coun)\n"
   ]
  },
  {
   "cell_type": "code",
   "execution_count": 174,
   "metadata": {},
   "outputs": [],
   "source": [
    "df_manga_rel_nona['title'] = df_manga.ctitle"
   ]
  },
  {
   "cell_type": "markdown",
   "metadata": {},
   "source": [
    "### Creating a TFIDF vectorizer"
   ]
  },
  {
   "cell_type": "code",
   "execution_count": 155,
   "metadata": {},
   "outputs": [],
   "source": [
    "from sklearn.feature_extraction.text import TfidfVectorizer\n",
    "from sklearn.metrics.pairwise import cosine_similarity"
   ]
  },
  {
   "cell_type": "code",
   "execution_count": 170,
   "metadata": {},
   "outputs": [],
   "source": [
    "# from nltk.stem import WordNetLemmatizer\n",
    "from nltk.stem.porter import PorterStemmer\n",
    "def process_text(text):\n",
    "    # replace multiple spaces with one\n",
    "    text = \" \".join(text.split())\n",
    "    stemer = PorterStemmer()\n",
    "\n",
    "    # lowercase\n",
    "    text = text.lower()\n",
    "    text = stemer.stem(text)\n",
    "\n",
    "\n",
    "    return text\n",
    "\n",
    "df_manga_rel_nona['description'] = df_manga_rel_nona.apply(lambda x: process_text(x.description), axis=1)"
   ]
  },
  {
   "cell_type": "code",
   "execution_count": 169,
   "metadata": {},
   "outputs": [
    {
     "data": {
      "text/plain": [
       "'he is learning about cat'"
      ]
     },
     "execution_count": 169,
     "metadata": {},
     "output_type": "execute_result"
    }
   ],
   "source": [
    "ps = PorterStemmer()\n",
    "ps.stem('he is learning about cats')"
   ]
  },
  {
   "cell_type": "code",
   "execution_count": 257,
   "metadata": {},
   "outputs": [
    {
     "data": {
      "text/plain": [
       "<55922x83030 sparse matrix of type '<class 'numpy.float64'>'\n",
       "\twith 1523647 stored elements in Compressed Sparse Row format>"
      ]
     },
     "execution_count": 257,
     "metadata": {},
     "output_type": "execute_result"
    }
   ],
   "source": [
    "tf_idf = TfidfVectorizer(stop_words='english', max_features=171876)\n",
    "tf_idf_matrix = tf_idf.fit_transform(df_manga_rel_nona['description'])\n",
    "tf_idf_matrix"
   ]
  },
  {
   "cell_type": "code",
   "execution_count": 276,
   "metadata": {},
   "outputs": [
    {
     "ename": "MemoryError",
     "evalue": "Unable to allocate 4.46 GiB for an array with shape (1195892220,) and data type int32",
     "output_type": "error",
     "traceback": [
      "\u001b[1;31m---------------------------------------------------------------------------\u001b[0m",
      "\u001b[1;31mMemoryError\u001b[0m                               Traceback (most recent call last)",
      "\u001b[1;32m<ipython-input-276-21502f584ccf>\u001b[0m in \u001b[0;36m<module>\u001b[1;34m\u001b[0m\n\u001b[1;32m----> 1\u001b[1;33m \u001b[0mcosine_similarity_matrix\u001b[0m \u001b[1;33m=\u001b[0m \u001b[0mcosine_similarity\u001b[0m\u001b[1;33m(\u001b[0m\u001b[0mtf_idf_matrix\u001b[0m\u001b[1;33m,\u001b[0m \u001b[0mdense_output\u001b[0m\u001b[1;33m=\u001b[0m\u001b[1;32mFalse\u001b[0m\u001b[1;33m)\u001b[0m\u001b[1;33m\u001b[0m\u001b[1;33m\u001b[0m\u001b[0m\n\u001b[0m\u001b[0;32m      2\u001b[0m \u001b[0mcosine_similarity_matrix\u001b[0m\u001b[1;33m\u001b[0m\u001b[1;33m\u001b[0m\u001b[0m\n",
      "\u001b[1;32mc:\\Program Files\\Python38\\lib\\site-packages\\sklearn\\metrics\\pairwise.py\u001b[0m in \u001b[0;36mcosine_similarity\u001b[1;34m(X, Y, dense_output)\u001b[0m\n\u001b[0;32m   1399\u001b[0m         \u001b[0mY_normalized\u001b[0m \u001b[1;33m=\u001b[0m \u001b[0mnormalize\u001b[0m\u001b[1;33m(\u001b[0m\u001b[0mY\u001b[0m\u001b[1;33m,\u001b[0m \u001b[0mcopy\u001b[0m\u001b[1;33m=\u001b[0m\u001b[1;32mTrue\u001b[0m\u001b[1;33m)\u001b[0m\u001b[1;33m\u001b[0m\u001b[1;33m\u001b[0m\u001b[0m\n\u001b[0;32m   1400\u001b[0m \u001b[1;33m\u001b[0m\u001b[0m\n\u001b[1;32m-> 1401\u001b[1;33m     \u001b[0mK\u001b[0m \u001b[1;33m=\u001b[0m \u001b[0msafe_sparse_dot\u001b[0m\u001b[1;33m(\u001b[0m\u001b[0mX_normalized\u001b[0m\u001b[1;33m,\u001b[0m \u001b[0mY_normalized\u001b[0m\u001b[1;33m.\u001b[0m\u001b[0mT\u001b[0m\u001b[1;33m,\u001b[0m \u001b[0mdense_output\u001b[0m\u001b[1;33m=\u001b[0m\u001b[0mdense_output\u001b[0m\u001b[1;33m)\u001b[0m\u001b[1;33m\u001b[0m\u001b[1;33m\u001b[0m\u001b[0m\n\u001b[0m\u001b[0;32m   1402\u001b[0m \u001b[1;33m\u001b[0m\u001b[0m\n\u001b[0;32m   1403\u001b[0m     \u001b[1;32mreturn\u001b[0m \u001b[0mK\u001b[0m\u001b[1;33m\u001b[0m\u001b[1;33m\u001b[0m\u001b[0m\n",
      "\u001b[1;32mc:\\Program Files\\Python38\\lib\\site-packages\\sklearn\\utils\\extmath.py\u001b[0m in \u001b[0;36msafe_sparse_dot\u001b[1;34m(a, b, dense_output)\u001b[0m\n\u001b[0;32m    187\u001b[0m             \u001b[0mret\u001b[0m \u001b[1;33m=\u001b[0m \u001b[0mnp\u001b[0m\u001b[1;33m.\u001b[0m\u001b[0mdot\u001b[0m\u001b[1;33m(\u001b[0m\u001b[0ma\u001b[0m\u001b[1;33m,\u001b[0m \u001b[0mb\u001b[0m\u001b[1;33m)\u001b[0m\u001b[1;33m\u001b[0m\u001b[1;33m\u001b[0m\u001b[0m\n\u001b[0;32m    188\u001b[0m     \u001b[1;32melse\u001b[0m\u001b[1;33m:\u001b[0m\u001b[1;33m\u001b[0m\u001b[1;33m\u001b[0m\u001b[0m\n\u001b[1;32m--> 189\u001b[1;33m         \u001b[0mret\u001b[0m \u001b[1;33m=\u001b[0m \u001b[0ma\u001b[0m \u001b[1;33m@\u001b[0m \u001b[0mb\u001b[0m\u001b[1;33m\u001b[0m\u001b[1;33m\u001b[0m\u001b[0m\n\u001b[0m\u001b[0;32m    190\u001b[0m \u001b[1;33m\u001b[0m\u001b[0m\n\u001b[0;32m    191\u001b[0m     if (\n",
      "\u001b[1;32m~\\AppData\\Roaming\\Python\\Python38\\site-packages\\scipy\\sparse\\base.py\u001b[0m in \u001b[0;36m__matmul__\u001b[1;34m(self, other)\u001b[0m\n\u001b[0;32m    558\u001b[0m             raise ValueError(\"Scalar operands are not allowed, \"\n\u001b[0;32m    559\u001b[0m                              \"use '*' instead\")\n\u001b[1;32m--> 560\u001b[1;33m         \u001b[1;32mreturn\u001b[0m \u001b[0mself\u001b[0m\u001b[1;33m.\u001b[0m\u001b[0m__mul__\u001b[0m\u001b[1;33m(\u001b[0m\u001b[0mother\u001b[0m\u001b[1;33m)\u001b[0m\u001b[1;33m\u001b[0m\u001b[1;33m\u001b[0m\u001b[0m\n\u001b[0m\u001b[0;32m    561\u001b[0m \u001b[1;33m\u001b[0m\u001b[0m\n\u001b[0;32m    562\u001b[0m     \u001b[1;32mdef\u001b[0m \u001b[0m__rmatmul__\u001b[0m\u001b[1;33m(\u001b[0m\u001b[0mself\u001b[0m\u001b[1;33m,\u001b[0m \u001b[0mother\u001b[0m\u001b[1;33m)\u001b[0m\u001b[1;33m:\u001b[0m\u001b[1;33m\u001b[0m\u001b[1;33m\u001b[0m\u001b[0m\n",
      "\u001b[1;32m~\\AppData\\Roaming\\Python\\Python38\\site-packages\\scipy\\sparse\\base.py\u001b[0m in \u001b[0;36m__mul__\u001b[1;34m(self, other)\u001b[0m\n\u001b[0;32m    478\u001b[0m             \u001b[1;32mif\u001b[0m \u001b[0mself\u001b[0m\u001b[1;33m.\u001b[0m\u001b[0mshape\u001b[0m\u001b[1;33m[\u001b[0m\u001b[1;36m1\u001b[0m\u001b[1;33m]\u001b[0m \u001b[1;33m!=\u001b[0m \u001b[0mother\u001b[0m\u001b[1;33m.\u001b[0m\u001b[0mshape\u001b[0m\u001b[1;33m[\u001b[0m\u001b[1;36m0\u001b[0m\u001b[1;33m]\u001b[0m\u001b[1;33m:\u001b[0m\u001b[1;33m\u001b[0m\u001b[1;33m\u001b[0m\u001b[0m\n\u001b[0;32m    479\u001b[0m                 \u001b[1;32mraise\u001b[0m \u001b[0mValueError\u001b[0m\u001b[1;33m(\u001b[0m\u001b[1;34m'dimension mismatch'\u001b[0m\u001b[1;33m)\u001b[0m\u001b[1;33m\u001b[0m\u001b[1;33m\u001b[0m\u001b[0m\n\u001b[1;32m--> 480\u001b[1;33m             \u001b[1;32mreturn\u001b[0m \u001b[0mself\u001b[0m\u001b[1;33m.\u001b[0m\u001b[0m_mul_sparse_matrix\u001b[0m\u001b[1;33m(\u001b[0m\u001b[0mother\u001b[0m\u001b[1;33m)\u001b[0m\u001b[1;33m\u001b[0m\u001b[1;33m\u001b[0m\u001b[0m\n\u001b[0m\u001b[0;32m    481\u001b[0m \u001b[1;33m\u001b[0m\u001b[0m\n\u001b[0;32m    482\u001b[0m         \u001b[1;31m# If it's a list or whatever, treat it like a matrix\u001b[0m\u001b[1;33m\u001b[0m\u001b[1;33m\u001b[0m\u001b[1;33m\u001b[0m\u001b[0m\n",
      "\u001b[1;32m~\\AppData\\Roaming\\Python\\Python38\\site-packages\\scipy\\sparse\\compressed.py\u001b[0m in \u001b[0;36m_mul_sparse_matrix\u001b[1;34m(self, other)\u001b[0m\n\u001b[0;32m    514\u001b[0m \u001b[1;33m\u001b[0m\u001b[0m\n\u001b[0;32m    515\u001b[0m         \u001b[0mindptr\u001b[0m \u001b[1;33m=\u001b[0m \u001b[0mnp\u001b[0m\u001b[1;33m.\u001b[0m\u001b[0mempty\u001b[0m\u001b[1;33m(\u001b[0m\u001b[0mmajor_axis\u001b[0m \u001b[1;33m+\u001b[0m \u001b[1;36m1\u001b[0m\u001b[1;33m,\u001b[0m \u001b[0mdtype\u001b[0m\u001b[1;33m=\u001b[0m\u001b[0midx_dtype\u001b[0m\u001b[1;33m)\u001b[0m\u001b[1;33m\u001b[0m\u001b[1;33m\u001b[0m\u001b[0m\n\u001b[1;32m--> 516\u001b[1;33m         \u001b[0mindices\u001b[0m \u001b[1;33m=\u001b[0m \u001b[0mnp\u001b[0m\u001b[1;33m.\u001b[0m\u001b[0mempty\u001b[0m\u001b[1;33m(\u001b[0m\u001b[0mnnz\u001b[0m\u001b[1;33m,\u001b[0m \u001b[0mdtype\u001b[0m\u001b[1;33m=\u001b[0m\u001b[0midx_dtype\u001b[0m\u001b[1;33m)\u001b[0m\u001b[1;33m\u001b[0m\u001b[1;33m\u001b[0m\u001b[0m\n\u001b[0m\u001b[0;32m    517\u001b[0m         \u001b[0mdata\u001b[0m \u001b[1;33m=\u001b[0m \u001b[0mnp\u001b[0m\u001b[1;33m.\u001b[0m\u001b[0mempty\u001b[0m\u001b[1;33m(\u001b[0m\u001b[0mnnz\u001b[0m\u001b[1;33m,\u001b[0m \u001b[0mdtype\u001b[0m\u001b[1;33m=\u001b[0m\u001b[0mupcast\u001b[0m\u001b[1;33m(\u001b[0m\u001b[0mself\u001b[0m\u001b[1;33m.\u001b[0m\u001b[0mdtype\u001b[0m\u001b[1;33m,\u001b[0m \u001b[0mother\u001b[0m\u001b[1;33m.\u001b[0m\u001b[0mdtype\u001b[0m\u001b[1;33m)\u001b[0m\u001b[1;33m)\u001b[0m\u001b[1;33m\u001b[0m\u001b[1;33m\u001b[0m\u001b[0m\n\u001b[0;32m    518\u001b[0m \u001b[1;33m\u001b[0m\u001b[0m\n",
      "\u001b[1;31mMemoryError\u001b[0m: Unable to allocate 4.46 GiB for an array with shape (1195892220,) and data type int32"
     ]
    }
   ],
   "source": [
    "cosine_similarity_matrix = cosine_similarity(tf_idf_matrix, dense_output=False)\n",
    "cosine_similarity_matrix"
   ]
  },
  {
   "cell_type": "code",
   "execution_count": 261,
   "metadata": {},
   "outputs": [],
   "source": [
    "def index_from_title(df,title):\n",
    "    return df[df['title'].str.contains(title)].index.values[0]\n",
    "\n",
    "def title_from_index(df, index):\n",
    "    return df[df.index == index].title.values[0]\n",
    "\n",
    "def recommendations(original_title, df, cosine_similarity_matrix, number_of_recommendations):\n",
    "    index = index_from_title(df, original_title)\n",
    "    similarity_scores = list(enumerate(np.squeeze(np.asarray(cosine_similarity_matrix[index].todense()))))\n",
    "    similarity_scores_sorted = sorted(similarity_scores, key=lambda x: x[1], reverse=True)\n",
    "    recommendations_indices = [t[0] for t in similarity_scores_sorted[1:(number_of_recommendations +1)]]\n",
    "    return df['title'].iloc[recommendations_indices]"
   ]
  },
  {
   "cell_type": "code",
   "execution_count": 247,
   "metadata": {},
   "outputs": [
    {
     "data": {
      "text/plain": [
       "'black bird'"
      ]
     },
     "execution_count": 247,
     "metadata": {},
     "output_type": "execute_result"
    }
   ],
   "source": [
    "df_manga_rel_nona[df_manga_rel_nona.index == 786].title.values[0]"
   ]
  },
  {
   "cell_type": "code",
   "execution_count": 252,
   "metadata": {},
   "outputs": [
    {
     "data": {
      "text/plain": [
       "553                       saiyuuki\n",
       "65315                     saiyuuki\n",
       "12328            saigo no saiyuuki\n",
       "5726                 saiyuuki ibun\n",
       "24769              bonnou☆saiyuuki\n",
       "60867          patalliro saiyuuki!\n",
       "796                saiyuuki reload\n",
       "33027           sakyubasu♥saiyuuki\n",
       "25210    saiyuuki dj - neogandhara\n",
       "38323    saiyuuki: dice of destiny\n",
       "Name: title, dtype: object"
      ]
     },
     "execution_count": 252,
     "metadata": {},
     "output_type": "execute_result"
    }
   ],
   "source": [
    "similarity_scores = list(enumerate(np.squeeze(np.asarray(cosine_similarity_matrix[786].todense()))))\n",
    "similarity_scores_sorted = sorted(similarity_scores, key=lambda x: x[1], reverse=True)\n",
    "df_manga_rel_nona['title'].iloc[[t[0] for t in similarity_scores_sorted[1:(10 +1)]]]"
   ]
  },
  {
   "cell_type": "code",
   "execution_count": 221,
   "metadata": {},
   "outputs": [],
   "source": [
    "df_manga_rel_nona.title = df_manga_rel_nona.title.apply(lambda x: str(x).lower())"
   ]
  },
  {
   "cell_type": "code",
   "execution_count": 263,
   "metadata": {},
   "outputs": [
    {
     "data": {
      "text/plain": [
       "421       all you need is kill\n",
       "97          ansatsu kyoushitsu\n",
       "2281                bestiarius\n",
       "11247           g-maru edition\n",
       "130      boku no hero academia\n",
       "122                     blame!\n",
       "27                 tokyo ghoul\n",
       "21          shingeki no kyojin\n",
       "735                     toriko\n",
       "329           ore monogatari!!\n",
       "Name: title, dtype: object"
      ]
     },
     "execution_count": 263,
     "metadata": {},
     "output_type": "execute_result"
    }
   ],
   "source": [
    "recommendations('one punch', df_manga_rel_nona, cosine_similarity_matrix, 10)"
   ]
  },
  {
   "cell_type": "code",
   "execution_count": 275,
   "metadata": {},
   "outputs": [
    {
     "data": {
      "text/html": [
       "<div>\n",
       "<style scoped>\n",
       "    .dataframe tbody tr th:only-of-type {\n",
       "        vertical-align: middle;\n",
       "    }\n",
       "\n",
       "    .dataframe tbody tr th {\n",
       "        vertical-align: top;\n",
       "    }\n",
       "\n",
       "    .dataframe thead th {\n",
       "        text-align: right;\n",
       "    }\n",
       "</style>\n",
       "<table border=\"1\" class=\"dataframe\">\n",
       "  <thead>\n",
       "    <tr style=\"text-align: right;\">\n",
       "      <th></th>\n",
       "      <th>manga_id</th>\n",
       "      <th>synopsis</th>\n",
       "      <th>background</th>\n",
       "      <th>genres</th>\n",
       "      <th>themes</th>\n",
       "      <th>description</th>\n",
       "      <th>title</th>\n",
       "    </tr>\n",
       "  </thead>\n",
       "  <tbody>\n",
       "    <tr>\n",
       "      <th>421</th>\n",
       "      <td>62887</td>\n",
       "      <td>Strange creatures known as \"Mimics\" have invad...</td>\n",
       "      <td>All You Need Is Kill was published in English ...</td>\n",
       "      <td>Action Sci-Fi</td>\n",
       "      <td>Military TimeTravel</td>\n",
       "      <td>strange creatures known as \"mimics\" have invad...</td>\n",
       "      <td>all you need is kill</td>\n",
       "    </tr>\n",
       "  </tbody>\n",
       "</table>\n",
       "</div>"
      ],
      "text/plain": [
       "     manga_id                                           synopsis  \\\n",
       "421     62887  Strange creatures known as \"Mimics\" have invad...   \n",
       "\n",
       "                                            background         genres  \\\n",
       "421  All You Need Is Kill was published in English ...  Action Sci-Fi   \n",
       "\n",
       "                  themes                                        description  \\\n",
       "421  Military TimeTravel  strange creatures known as \"mimics\" have invad...   \n",
       "\n",
       "                    title  \n",
       "421  all you need is kill  "
      ]
     },
     "execution_count": 275,
     "metadata": {},
     "output_type": "execute_result"
    }
   ],
   "source": [
    "df_manga_rel_nona[df_manga_rel_nona.index == 411+10]"
   ]
  }
 ],
 "metadata": {
  "kernelspec": {
   "display_name": "Python 3",
   "language": "python",
   "name": "python3"
  },
  "language_info": {
   "codemirror_mode": {
    "name": "ipython",
    "version": 3
   },
   "file_extension": ".py",
   "mimetype": "text/x-python",
   "name": "python",
   "nbconvert_exporter": "python",
   "pygments_lexer": "ipython3",
   "version": "3.10.12"
  },
  "orig_nbformat": 4
 },
 "nbformat": 4,
 "nbformat_minor": 2
}
